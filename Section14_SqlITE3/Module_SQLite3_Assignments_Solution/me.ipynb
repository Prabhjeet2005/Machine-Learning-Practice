{
 "cells": [
  {
   "cell_type": "code",
   "execution_count": 2,
   "metadata": {},
   "outputs": [],
   "source": [
    "# Q1\n",
    "import sqlite3\n",
    "\n",
    "connection = sqlite3.connect(\"test.db\")\n",
    "cursor = connection.cursor()\n",
    "\n",
    "cursor.execute(\n",
    "    \"\"\" CREATE TABLE employees(id INTEGER primary key,name text,age INTEGER, department text) \"\"\"\n",
    ")\n",
    "connection.commit()"
   ]
  },
  {
   "cell_type": "code",
   "execution_count": 3,
   "metadata": {},
   "outputs": [],
   "source": [
    "# Q2\n",
    "emp_data = [\n",
    "    (\"Person1\", 20, \"HR\"),\n",
    "    (\"Person2\", 40, \"Technical\"),\n",
    "    (\"Person3\", 50, \"HR\"),\n",
    "    (\"Person4\", 40, \"HR\"),\n",
    "    (\"Person5\", 30, \"Management\"),\n",
    "]\n",
    "cursor.executemany(\n",
    "    \"\"\" INSERT INTO employees(name,age,department) VALUES(?,?,?) \"\"\", emp_data\n",
    ")\n",
    "connection.commit()\n"
   ]
  },
  {
   "cell_type": "code",
   "execution_count": 4,
   "metadata": {},
   "outputs": [
    {
     "name": "stdout",
     "output_type": "stream",
     "text": [
      "(1, 'Person1', 20, 'HR')\n",
      "(2, 'Person2', 40, 'Technical')\n",
      "(3, 'Person3', 50, 'HR')\n",
      "(4, 'Person4', 40, 'HR')\n",
      "(5, 'Person5', 30, 'Management')\n"
     ]
    }
   ],
   "source": [
    "# Q3 (1)\n",
    "cursor.execute(\"\"\" SELECT * FROM employees \"\"\")\n",
    "rows = cursor.fetchall()\n",
    "for row in rows:\n",
    "    print(row)"
   ]
  },
  {
   "cell_type": "code",
   "execution_count": 5,
   "metadata": {},
   "outputs": [
    {
     "name": "stdout",
     "output_type": "stream",
     "text": [
      "(1, 'Person1', 20, 'HR')\n",
      "(3, 'Person3', 50, 'HR')\n",
      "(4, 'Person4', 40, 'HR')\n"
     ]
    }
   ],
   "source": [
    "# Q3 (2)\n",
    "cursor.execute(\"\"\" SELECT * FROM employees WHERE department = \"HR\" \"\"\")\n",
    "rows = cursor.fetchall()\n",
    "for row in rows:\n",
    "    print(row)"
   ]
  },
  {
   "cell_type": "code",
   "execution_count": 7,
   "metadata": {},
   "outputs": [
    {
     "name": "stdout",
     "output_type": "stream",
     "text": [
      "(1, 'Person1', 20, 'HR')\n",
      "(2, 'Person2', 40, 'Technical')\n",
      "(3, 'Person3', 50, 'Technical')\n",
      "(4, 'Person4', 40, 'HR')\n",
      "(5, 'Person5', 30, 'Management')\n"
     ]
    }
   ],
   "source": [
    "# Q4\n",
    "cursor.execute(\"\"\" UPDATE employees SET department = \"Technical\" WHERE id = 3 \"\"\")\n",
    "connection.commit()\n",
    "\n",
    "cursor.execute(\"\"\" SELECT * FROM employees \"\"\")\n",
    "rows = cursor.fetchall()\n",
    "for row in rows:\n",
    "    print(row)"
   ]
  },
  {
   "cell_type": "code",
   "execution_count": 8,
   "metadata": {},
   "outputs": [
    {
     "name": "stdout",
     "output_type": "stream",
     "text": [
      "(1, 'Person1', 20, 'HR')\n",
      "(2, 'Person2', 40, 'Technical')\n",
      "(4, 'Person4', 40, 'HR')\n",
      "(5, 'Person5', 30, 'Management')\n"
     ]
    }
   ],
   "source": [
    "# Q5\n",
    "cursor.execute(\"\"\" DELETE FROM employees WHERE id=3 \"\"\")\n",
    "connection.commit()\n",
    "\n",
    "cursor.execute(\"\"\" SELECT * FROM employees \"\"\")\n",
    "rows = cursor.fetchall()\n",
    "for row in rows:\n",
    "    print(row)"
   ]
  },
  {
   "cell_type": "code",
   "execution_count": null,
   "metadata": {},
   "outputs": [],
   "source": []
  }
 ],
 "metadata": {
  "kernelspec": {
   "display_name": "Python 3",
   "language": "python",
   "name": "python3"
  },
  "language_info": {
   "codemirror_mode": {
    "name": "ipython",
    "version": 3
   },
   "file_extension": ".py",
   "mimetype": "text/x-python",
   "name": "python",
   "nbconvert_exporter": "python",
   "pygments_lexer": "ipython3",
   "version": "3.12.0"
  }
 },
 "nbformat": 4,
 "nbformat_minor": 2
}
