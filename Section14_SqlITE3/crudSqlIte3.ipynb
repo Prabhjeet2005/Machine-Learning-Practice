{
 "cells": [
  {
   "cell_type": "markdown",
   "metadata": {},
   "source": [
    "# SQLITE3\n",
    "\n",
    "#### import sqlite3\n"
   ]
  },
  {
   "cell_type": "code",
   "execution_count": 48,
   "metadata": {},
   "outputs": [],
   "source": [
    "import sqlite3\n",
    "\n",
    "connection = sqlite3.connect(\"example.db\")\n",
    "connection\n",
    "cursor = connection.cursor()\n",
    "\n",
    "# Create a table\tvarchar & text both Acceptable\n",
    "cursor.execute(  # auto empid generation with  INTEGER not int type\n",
    "    \"\"\" create table if not exists employees(empid int primary key, name varchar(50) not null, age int,department int) \"\"\"\n",
    ")\n",
    "\n",
    "# Commit Changes [IMP]\n",
    "connection.commit()  # Important"
   ]
  },
  {
   "cell_type": "code",
   "execution_count": 49,
   "metadata": {},
   "outputs": [],
   "source": [
    "# insert in table\n",
    "cursor.execute(\n",
    "    \"\"\" \n",
    "\tinsert into employees(name,age,department) values(\"Prabhjeet\",19,\"Technical\")\n",
    " \"\"\"\n",
    ")\n",
    "cursor.execute(\n",
    "    \"\"\" \n",
    "\tinsert into employees(name,age,department) values(\"Raman\",18,\"IT\")\n",
    " \"\"\"\n",
    ")\n",
    "cursor.execute(\n",
    "    \"\"\" \n",
    "\tinsert into employees(name,age,department) values(\"John\",43,\"HR\")\n",
    " \"\"\"\n",
    ")\n",
    "connection.commit()  # Important"
   ]
  },
  {
   "cell_type": "markdown",
   "metadata": {},
   "source": [
    "# Querying Data\n"
   ]
  },
  {
   "cell_type": "code",
   "execution_count": 50,
   "metadata": {},
   "outputs": [
    {
     "name": "stdout",
     "output_type": "stream",
     "text": [
      "(None, 'Prabhjeet', 19, 'Technical')\n",
      "(None, 'Raman', 18, 'IT')\n",
      "(None, 'John', 43, 'HR')\n"
     ]
    }
   ],
   "source": [
    "cursor.execute(\n",
    "    \"\"\" \n",
    "\tselect * from employees\n",
    "\t\"\"\"\n",
    ")\n",
    "\n",
    "rows = cursor.fetchall()\n",
    "for row in rows:\n",
    "    print(row)"
   ]
  },
  {
   "cell_type": "markdown",
   "metadata": {},
   "source": [
    "# Updating Data\n"
   ]
  },
  {
   "cell_type": "code",
   "execution_count": 51,
   "metadata": {},
   "outputs": [
    {
     "name": "stdout",
     "output_type": "stream",
     "text": [
      "(1, 'Prabhjeet', 19, 'Technical')\n",
      "(2, 'Raman', 18, 'IT')\n",
      "(3, 'John', 43, 'HR')\n"
     ]
    }
   ],
   "source": [
    "cursor.execute(\n",
    "    \"\"\"\n",
    "UPDATE employees\n",
    "SET empid = 1\n",
    "WHERE name = \"Prabhjeet\"\n",
    "\"\"\"\n",
    ")\n",
    "cursor.execute(\n",
    "    \"\"\"\n",
    "UPDATE employees\n",
    "SET empid = 2\n",
    "WHERE name = \"Raman\"\n",
    "\"\"\"\n",
    ")\n",
    "cursor.execute(\n",
    "    \"\"\"\n",
    "UPDATE employees\n",
    "SET empid = 3\n",
    "WHERE name = \"John\"\n",
    "\"\"\"\n",
    ")\n",
    "connection.commit()  # Save Changes\n",
    "\n",
    "# Displaying Data\n",
    "cursor.execute(\n",
    "    \"\"\" \n",
    "\tSELECT * FROM employees\n",
    "\t\"\"\"\n",
    ")\n",
    "rows = cursor.fetchall()\n",
    "for row in rows:\n",
    "    print(row)"
   ]
  },
  {
   "cell_type": "markdown",
   "metadata": {},
   "source": [
    "# Deleting Data\n"
   ]
  },
  {
   "cell_type": "code",
   "execution_count": 52,
   "metadata": {},
   "outputs": [
    {
     "name": "stdout",
     "output_type": "stream",
     "text": [
      "(1, 'Prabhjeet', 19, 'Technical')\n",
      "(3, 'John', 43, 'HR')\n"
     ]
    }
   ],
   "source": [
    "cursor.execute(\n",
    "    \"\"\" \n",
    "DELETE FROM employees\n",
    "WHERE empid = 2\n",
    "\"\"\"\n",
    ")\n",
    "connection.commit()\n",
    "\n",
    "# Displaying Data\n",
    "cursor.execute(\n",
    "    \"\"\"\n",
    "SELECT * FROM employees\n",
    "\"\"\"\n",
    ")\n",
    "rows = cursor.fetchall()\n",
    "for row in rows:\n",
    "    print(row)"
   ]
  },
  {
   "cell_type": "code",
   "execution_count": 61,
   "metadata": {},
   "outputs": [
    {
     "name": "stdout",
     "output_type": "stream",
     "text": [
      "(1, 'Prabhjeet', 19, 'Technical')\n",
      "(3, 'John', 43, 'HR')\n",
      "(None, 'Person1', 25, 'HR')\n",
      "(None, 'Person2', 45, 'Technical')\n",
      "(None, 'Person3', 29, 'HR')\n"
     ]
    }
   ],
   "source": [
    "# cursor.execute(\n",
    "#     \"\"\"\n",
    "# drop table employees\n",
    "# \"\"\"\n",
    "# )\n",
    "# connection.commit()\n",
    "connection = sqlite3.connect(\"example.db\")\n",
    "cursor = connection.cursor()\n",
    "emp_data = [\n",
    "    (\"Person1\", 25, \"HR\"),\n",
    "    (\"Person2\", 45, \"Technical\"),\n",
    "    (\"Person3\", 29, \"HR\"),\n",
    "]\n",
    "\n",
    "cursor.executemany(\n",
    "    \"\"\" \n",
    "\tINSERT INTO employees(name,age,department)\n",
    "\tVALUES(?,?,?)\n",
    "\"\"\",\n",
    "    emp_data,\n",
    ")\n",
    "connection.commit()\n",
    "\n",
    "cursor.execute(\n",
    "    \"\"\"\n",
    "SELECT * FROM employees\"\"\"\n",
    ")\n",
    "\n",
    "rows = cursor.fetchall()\n",
    "for row in rows:\n",
    "    print(row)"
   ]
  },
  {
   "cell_type": "markdown",
   "metadata": {},
   "source": [
    "# Practical Application\n",
    "\n",
    "## Bulk Sales Data Insertion\n"
   ]
  },
  {
   "cell_type": "code",
   "execution_count": 56,
   "metadata": {},
   "outputs": [
    {
     "name": "stdout",
     "output_type": "stream",
     "text": [
      "(1, '2025-03-01', 'Product1', 200, 'North')\n",
      "(2, '2025-01-05', 'Product1', 500, 'South')\n",
      "(3, '2025-07-10', 'Product1', 700, 'North')\n",
      "(4, '2025-09-15', 'Product1', 250, 'West')\n"
     ]
    }
   ],
   "source": [
    "cursor.execute(  # auto salesID generation with  INTEGER not int\n",
    "    \"\"\" \n",
    "create table sales(salesID INTEGER primary key,productDate varchar(50), productName varchar(50),quantity int,region varchar(50))\n",
    "\"\"\"\n",
    ")\n",
    "sales_data = [\n",
    "    (\"2025-03-01\", \"Product1\", 200, \"North\"),\n",
    "    (\"2025-01-05\", \"Product1\", 500, \"South\"),\n",
    "    (\"2025-07-10\", \"Product1\", 700, \"North\"),\n",
    "    (\"2025-09-15\", \"Product1\", 250, \"West\"),\n",
    "]\n",
    "# Insert using ?\n",
    "cursor.executemany(  # executemany\n",
    "    \"\"\"\n",
    "\tINSERT INTO sales(productDate,productName,quantity,region)\n",
    "\tVALUES(?,?,?,?)\n",
    "\t\"\"\",\n",
    "    sales_data,\n",
    ")\n",
    "\n",
    "connection.commit()\n",
    "\n",
    "cursor.execute(\n",
    "    \"\"\"\n",
    "\tSELECT * FROM sales\n",
    "\t\"\"\"\n",
    ")\n",
    "rows = cursor.fetchall()\n",
    "for row in rows:\n",
    "    print(row)"
   ]
  },
  {
   "cell_type": "code",
   "execution_count": 55,
   "metadata": {},
   "outputs": [],
   "source": [
    "# cursor.execute(\"\"\"drop table sales\"\"\")\n",
    "# connection.commit()"
   ]
  },
  {
   "cell_type": "markdown",
   "metadata": {},
   "source": [
    "# Permanently close the connection\n"
   ]
  },
  {
   "cell_type": "code",
   "execution_count": 57,
   "metadata": {},
   "outputs": [],
   "source": [
    "connection.close()"
   ]
  },
  {
   "cell_type": "code",
   "execution_count": null,
   "metadata": {},
   "outputs": [],
   "source": []
  }
 ],
 "metadata": {
  "kernelspec": {
   "display_name": "Python 3",
   "language": "python",
   "name": "python3"
  },
  "language_info": {
   "codemirror_mode": {
    "name": "ipython",
    "version": 3
   },
   "file_extension": ".py",
   "mimetype": "text/x-python",
   "name": "python",
   "nbconvert_exporter": "python",
   "pygments_lexer": "ipython3",
   "version": "3.12.0"
  }
 },
 "nbformat": 4,
 "nbformat_minor": 2
}
