{
 "cells": [
  {
   "cell_type": "markdown",
   "metadata": {},
   "source": [
    "# STL"
   ]
  },
  {
   "cell_type": "markdown",
   "metadata": {},
   "source": [
    "### array"
   ]
  },
  {
   "cell_type": "code",
   "execution_count": 3,
   "metadata": {},
   "outputs": [],
   "source": [
    "import array\n",
    "arr = array.array('i',[1,2,3,4])"
   ]
  },
  {
   "cell_type": "markdown",
   "metadata": {},
   "source": [
    "### random"
   ]
  },
  {
   "cell_type": "code",
   "execution_count": 23,
   "metadata": {},
   "outputs": [
    {
     "name": "stdout",
     "output_type": "stream",
     "text": [
      "3\n",
      "chintu\n"
     ]
    }
   ],
   "source": [
    "import random\n",
    "print(random.randint(1,3))\n",
    "print(random.choice(['hello','hi','chintu']))"
   ]
  },
  {
   "cell_type": "markdown",
   "metadata": {},
   "source": [
    "# os [V.V.IMP]"
   ]
  },
  {
   "cell_type": "code",
   "execution_count": 4,
   "metadata": {},
   "outputs": [
    {
     "name": "stdout",
     "output_type": "stream",
     "text": [
      "/Users/prabhjeet1/Desktop/PORTFOLIO/Machine Learning/Section2-12_PythonLearn/Section6_import_modules_STL\n",
      "ExampleFolder/ExampleFile.txt\n",
      "/Users/prabhjeet1/Desktop/PORTFOLIO/Machine Learning/Section2-12_PythonLearn/Section6_import_modules_STL/ExampleFolder/ExampleFile.txt\n",
      "File path 'example.csv' exists\n",
      "It is A File\n"
     ]
    }
   ],
   "source": [
    "import os\n",
    "print(os.getcwd())\n",
    "\n",
    "dir_name='ExampleFolder'\n",
    "file_name = \"ExampleFile.txt\"\n",
    "\n",
    "partial_path = os.path.join(dir_name,file_name)\n",
    "print(partial_path)\n",
    "\n",
    "full_path = os.path.join(os.getcwd(),dir_name,file_name)\n",
    "print(full_path)\n",
    "\n",
    "# Check Path Exists\n",
    "egPath = 'example.csv'\n",
    "if os.path.exists:\n",
    "    print(f\"File path '{egPath}' exists\")\n",
    "else:\n",
    "    print(f\"File path {egPath} doesn't Exiss\")\n",
    "    \n",
    "# Check if File or Folder\n",
    "if os.path.isfile(egPath):\n",
    "    print(\"It is A File\")\n",
    "elif (os.path.isdir(egPath)):\n",
    "    print(\"It is Folder\")\n",
    "else:\n",
    "    print(\"Neither File or Folder\")"
   ]
  },
  {
   "cell_type": "markdown",
   "metadata": {},
   "source": [
    "## JSON"
   ]
  },
  {
   "cell_type": "code",
   "execution_count": 29,
   "metadata": {},
   "outputs": [
    {
     "name": "stdout",
     "output_type": "stream",
     "text": [
      "{\"name\": \"Prabhjeet\", \"age\": 25}\n",
      "{'name': 'Prabhjeet', 'age': 25}\n"
     ]
    }
   ],
   "source": [
    "import json \n",
    "dict = {\"name\":\"Prabhjeet\",\"age\":25}\n",
    "json_str = json.dumps(dict)\n",
    "print(json_str)\n",
    "\n",
    "parsed_data = json.loads(json_str)\n",
    "print(parsed_data)"
   ]
  },
  {
   "cell_type": "markdown",
   "metadata": {},
   "source": [
    "# CSV [Comma Seperated Values]"
   ]
  },
  {
   "cell_type": "code",
   "execution_count": 30,
   "metadata": {},
   "outputs": [
    {
     "name": "stdout",
     "output_type": "stream",
     "text": [
      "['name', 'age']\n",
      "['Prabhjeet', '25']\n"
     ]
    }
   ],
   "source": [
    "import csv\n",
    "# write\n",
    "with open('example.csv',mode='w',newline='') as file:\n",
    "  writer = csv.writer(file)\n",
    "  writer.writerow(['name','age'])\n",
    "  writer.writerow(['Prabhjeet',25])\n",
    "\n",
    "# read mode\n",
    "with open('example.csv',mode='r') as file:\n",
    "  reader = csv.reader(file)\n",
    "  for row in reader:\n",
    "    print(row)\n"
   ]
  },
  {
   "cell_type": "code",
   "execution_count": 31,
   "metadata": {},
   "outputs": [],
   "source": [
    "# time\n",
    "import time\n",
    "time.time()\n",
    "time.sleep(2)"
   ]
  },
  {
   "cell_type": "code",
   "execution_count": 52,
   "metadata": {},
   "outputs": [
    {
     "ename": "AttributeError",
     "evalue": "'NoneType' object has no attribute 'group'",
     "output_type": "error",
     "traceback": [
      "\u001b[0;31m---------------------------------------------------------------------------\u001b[0m",
      "\u001b[0;31mAttributeError\u001b[0m                            Traceback (most recent call last)",
      "Cell \u001b[0;32mIn[52], line 6\u001b[0m\n\u001b[1;32m      4\u001b[0m text \u001b[38;5;241m=\u001b[39m \u001b[38;5;124m'\u001b[39m\u001b[38;5;124mThis is Example 123 456 apple 789\u001b[39m\u001b[38;5;124m'\u001b[39m\n\u001b[1;32m      5\u001b[0m match \u001b[38;5;241m=\u001b[39m re\u001b[38;5;241m.\u001b[39msearch(pattern,text)\n\u001b[0;32m----> 6\u001b[0m \u001b[38;5;28mprint\u001b[39m(\u001b[43mmatch\u001b[49m\u001b[38;5;241;43m.\u001b[39;49m\u001b[43mgroup\u001b[49m())\n",
      "\u001b[0;31mAttributeError\u001b[0m: 'NoneType' object has no attribute 'group'"
     ]
    }
   ],
   "source": [
    "import re\n",
    "\n",
    "pattern = r'\\d+'\n",
    "text = 'This is Example 123 456 apple 789'\n",
    "match = re.search(pattern,text)\n",
    "print(match.group())"
   ]
  },
  {
   "cell_type": "code",
   "execution_count": null,
   "metadata": {},
   "outputs": [],
   "source": []
  }
 ],
 "metadata": {
  "kernelspec": {
   "display_name": "Python 3",
   "language": "python",
   "name": "python3"
  },
  "language_info": {
   "codemirror_mode": {
    "name": "ipython",
    "version": 3
   },
   "file_extension": ".py",
   "mimetype": "text/x-python",
   "name": "python",
   "nbconvert_exporter": "python",
   "pygments_lexer": "ipython3",
   "version": "3.12.0"
  }
 },
 "nbformat": 4,
 "nbformat_minor": 2
}
