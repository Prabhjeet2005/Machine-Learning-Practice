{
 "cells": [
  {
   "cell_type": "markdown",
   "metadata": {},
   "source": [
    "# Txt File"
   ]
  },
  {
   "cell_type": "code",
   "execution_count": 1,
   "metadata": {},
   "outputs": [],
   "source": [
    "# write txt file (Over Writing)\n",
    "with open('example.txt' , 'w') as file:\n",
    "  file.write(\"Hello World!\\n\")"
   ]
  },
  {
   "cell_type": "code",
   "execution_count": 2,
   "metadata": {},
   "outputs": [],
   "source": [
    "# write files [without Over Writing]\n",
    "\n",
    "with open('example.txt','a') as file:\n",
    "  file.write(\"Hi\\n\")"
   ]
  },
  {
   "cell_type": "code",
   "execution_count": 3,
   "metadata": {},
   "outputs": [],
   "source": [
    "# Writing  [List of Lines]\n",
    "lst = ['This is First Line\\n','This is Second Line\\n']\n",
    "\n",
    "with open('example.txt','a') as file:\n",
    "  file.writelines(lst)"
   ]
  },
  {
   "cell_type": "code",
   "execution_count": 4,
   "metadata": {},
   "outputs": [
    {
     "name": "stdout",
     "output_type": "stream",
     "text": [
      "Hello World!\n",
      "Hi\n",
      "This is First Line\n",
      "This is Second Line\n",
      "\n"
     ]
    }
   ],
   "source": [
    "# Read Entire File\n",
    "with open('example.txt','r') as file:\n",
    "  content = file.read()\n",
    "  print(content)"
   ]
  },
  {
   "cell_type": "code",
   "execution_count": 5,
   "metadata": {},
   "outputs": [
    {
     "name": "stdout",
     "output_type": "stream",
     "text": [
      "Hello World!\n",
      "\n",
      "Hi\n",
      "\n",
      "This is First Line\n",
      "\n",
      "This is Second Line\n",
      "\n"
     ]
    }
   ],
   "source": [
    "# Read Line By Line with escape character\n",
    "with open('example.txt','r') as file:\n",
    "  for line in file:\n",
    "    print(line)"
   ]
  },
  {
   "cell_type": "code",
   "execution_count": 10,
   "metadata": {},
   "outputs": [],
   "source": [
    "# Read From One File Write To Another\n",
    "with open('example.txt','r') as source_file:\n",
    "  content = source_file.read()\n",
    "\n",
    "with open('destination.txt','w') as destination_file:\n",
    "  destination_file.write(content)"
   ]
  },
  {
   "cell_type": "code",
   "execution_count": 6,
   "metadata": {},
   "outputs": [
    {
     "name": "stdout",
     "output_type": "stream",
     "text": [
      "Hello World!\n",
      "Hi\n",
      "This is First Line\n",
      "This is Second Line\n"
     ]
    }
   ],
   "source": [
    "# Read Line By Line Without Escape Character\n",
    "with open('example.txt','r') as file:\n",
    "  for line in file:\n",
    "    print(line.strip())"
   ]
  },
  {
   "cell_type": "code",
   "execution_count": 21,
   "metadata": {},
   "outputs": [
    {
     "name": "stdout",
     "output_type": "stream",
     "text": [
      "Hello How are You?\n",
      "\n"
     ]
    }
   ],
   "source": [
    "# First Write then Read in Same Operation\n",
    "\n",
    "with open('example.txt','w+') as file:\n",
    "  file.write(\"Hello How \")\n",
    "  file.write(\"are You?\\n\")\n",
    "\n",
    "  # Cursor To Beginning\n",
    "  file.seek(0)\n",
    "\n",
    "  content = file.read()\n",
    "  print(content)"
   ]
  },
  {
   "cell_type": "markdown",
   "metadata": {},
   "source": [
    "# Binary File (.bin)"
   ]
  },
  {
   "cell_type": "code",
   "execution_count": 7,
   "metadata": {},
   "outputs": [],
   "source": [
    "# write to Binary File\n",
    "data = b'\\x00\\x01'\n",
    "with open('example.bin','wb') as file:\n",
    "  file.write(data)"
   ]
  },
  {
   "cell_type": "code",
   "execution_count": 8,
   "metadata": {},
   "outputs": [
    {
     "name": "stdout",
     "output_type": "stream",
     "text": [
      "b'\\x00\\x01'\n"
     ]
    }
   ],
   "source": [
    "# Read Binary File\n",
    "with open('example.bin','rb') as file:\n",
    "  content = file.read()\n",
    "  print(content)"
   ]
  },
  {
   "cell_type": "markdown",
   "metadata": {},
   "source": [
    "# Assignment\n",
    "Read the text file and count the no. of lines words and characters"
   ]
  },
  {
   "cell_type": "code",
   "execution_count": 19,
   "metadata": {},
   "outputs": [
    {
     "name": "stdout",
     "output_type": "stream",
     "text": [
      "{'lines': 4, 'words': 11, 'characters': 44}\n"
     ]
    }
   ],
   "source": [
    "with open('example.txt', 'r') as file:\n",
    "  freq = {\"lines\":0,\"words\":0,\"characters\":0}\n",
    "  for line in file:\n",
    "    freq[\"lines\"] += 1\n",
    "    for word in line.split():\n",
    "      freq['words'] += 1\n",
    "      for char in word:\n",
    "        freq['characters'] += 1\n",
    "\n",
    "print(freq)"
   ]
  }
 ],
 "metadata": {
  "kernelspec": {
   "display_name": "Python 3",
   "language": "python",
   "name": "python3"
  },
  "language_info": {
   "codemirror_mode": {
    "name": "ipython",
    "version": 3
   },
   "file_extension": ".py",
   "mimetype": "text/x-python",
   "name": "python",
   "nbconvert_exporter": "python",
   "pygments_lexer": "ipython3",
   "version": "3.12.0"
  }
 },
 "nbformat": 4,
 "nbformat_minor": 2
}
