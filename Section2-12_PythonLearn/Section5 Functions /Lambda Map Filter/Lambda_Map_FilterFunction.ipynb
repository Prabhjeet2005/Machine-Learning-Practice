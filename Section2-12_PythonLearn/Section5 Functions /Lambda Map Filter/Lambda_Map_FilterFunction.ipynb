{
 "cells": [
  {
   "cell_type": "markdown",
   "metadata": {},
   "source": [
    "### Lambda Functions\n",
    "instead of def function we use lambda function"
   ]
  },
  {
   "cell_type": "code",
   "execution_count": 8,
   "metadata": {},
   "outputs": [
    {
     "name": "stdout",
     "output_type": "stream",
     "text": [
      "False\n"
     ]
    }
   ],
   "source": [
    "# Normal Function\n",
    "def evod(num):\n",
    "  return (num%2==0)\n",
    "\n",
    "print(evod(3))\n",
    "\n",
    "# LAMBDA FUNCTION\n",
    "evod = lambda num: num%2==0\n",
    "print(evod(6))"
   ]
  },
  {
   "cell_type": "markdown",
   "metadata": {},
   "source": [
    "## Map Function\n",
    "### Syntax:-\n",
    "### map(func_name , lst_name)\n",
    "### list(map(func_name,lst_name))"
   ]
  },
  {
   "cell_type": "code",
   "execution_count": 6,
   "metadata": {},
   "outputs": [
    {
     "name": "stdout",
     "output_type": "stream",
     "text": [
      "[1, 4, 9, 16]\n",
      "[1, 4, 9, 16]\n"
     ]
    }
   ],
   "source": [
    "def square(x):\n",
    "  return x**2\n",
    "\n",
    "lst = [1,2,3,4]\n",
    "\n",
    "ans = list(map(square, lst))\n",
    "print(ans)\n",
    "\n",
    "\n",
    "ans = list(map(lambda x:x*x , lst))\n",
    "print(ans)"
   ]
  },
  {
   "cell_type": "markdown",
   "metadata": {},
   "source": [
    "# Muliple List Map Function\n"
   ]
  },
  {
   "cell_type": "code",
   "execution_count": 7,
   "metadata": {},
   "outputs": [
    {
     "name": "stdout",
     "output_type": "stream",
     "text": [
      "[5, 7, 9]\n"
     ]
    }
   ],
   "source": [
    "lst1 = [1,2,3]\n",
    "lst2 = [4,5,6]\n",
    "\n",
    "addition = list(map(lambda x,y:x+y, lst1,lst2))\n",
    "print(addition)"
   ]
  },
  {
   "cell_type": "markdown",
   "metadata": {},
   "source": [
    "### List of String to List Of Integers"
   ]
  },
  {
   "cell_type": "code",
   "execution_count": 10,
   "metadata": {},
   "outputs": [
    {
     "name": "stdout",
     "output_type": "stream",
     "text": [
      "[1, 2]\n"
     ]
    }
   ],
   "source": [
    "lst = [\"1\",\"2\"]\n",
    "\n",
    "intLst = list(map(int , lst))\n",
    "print(intLst)"
   ]
  },
  {
   "cell_type": "code",
   "execution_count": 12,
   "metadata": {},
   "outputs": [
    {
     "name": "stdout",
     "output_type": "stream",
     "text": [
      "['APPLE', 'BANANA']\n"
     ]
    }
   ],
   "source": [
    "lower_words = ['apple','banana']\n",
    "upper_word = list(map(str.upper, lower_words))\n",
    "print(upper_word)"
   ]
  },
  {
   "cell_type": "markdown",
   "metadata": {},
   "source": [
    "### Get List of Names From List Of Dictionary"
   ]
  },
  {
   "cell_type": "code",
   "execution_count": 13,
   "metadata": {},
   "outputs": [
    {
     "name": "stdout",
     "output_type": "stream",
     "text": [
      "['Prabhjeet', 'Singh']\n"
     ]
    }
   ],
   "source": [
    "people = [\n",
    "  {'name': \"Prabhjeet\", \"age\":25},\n",
    "  {\"name\": \"Singh\", \"age\": 27}\n",
    "]\n",
    "\n",
    "def get_name(person):\n",
    "  return person['name']\n",
    "\n",
    "ansLst = list(map(get_name,people))\n",
    "print(ansLst)"
   ]
  },
  {
   "cell_type": "markdown",
   "metadata": {},
   "source": [
    "# Filter Function\n",
    "### Syntax:-\n",
    "### filter(func_name, lst_name)\n",
    "### list(filter(func_name,lst_name))"
   ]
  },
  {
   "cell_type": "code",
   "execution_count": 14,
   "metadata": {},
   "outputs": [
    {
     "name": "stdout",
     "output_type": "stream",
     "text": [
      "[2, 4, 6]\n"
     ]
    }
   ],
   "source": [
    "def even(num):\n",
    "  return (num%2==0)\n",
    "\n",
    "lst = [1,2,3,4,5,6]\n",
    "\n",
    "filtered_list = (list(filter(even,lst)))\n",
    "print(filtered_list)"
   ]
  },
  {
   "cell_type": "code",
   "execution_count": 18,
   "metadata": {},
   "outputs": [
    {
     "name": "stdout",
     "output_type": "stream",
     "text": [
      "[45, 56, 67]\n"
     ]
    }
   ],
   "source": [
    "# filter using lambda function numbers greater than 5\n",
    "lst = [1,2,3,4,45,56,67]\n",
    "\n",
    "def greaterThan5(num):\n",
    "  return num>5\n",
    "\n",
    "filtered_list = list(filter(lambda x:x>5, lst))\n",
    "print(filtered_list)"
   ]
  },
  {
   "cell_type": "markdown",
   "metadata": {},
   "source": [
    "## Filter Lambda Multiple Conditions"
   ]
  },
  {
   "cell_type": "code",
   "execution_count": 19,
   "metadata": {},
   "outputs": [
    {
     "name": "stdout",
     "output_type": "stream",
     "text": [
      "[6, 8]\n"
     ]
    }
   ],
   "source": [
    "lst = [2,3,4,5,6,67,7,8]\n",
    "\n",
    "newlst = list(filter(lambda x:x>5 and x%2==0 , lst))\n",
    "print(newlst)"
   ]
  },
  {
   "cell_type": "markdown",
   "metadata": {},
   "source": [
    "## Filter in Dictionary"
   ]
  },
  {
   "cell_type": "code",
   "execution_count": 24,
   "metadata": {},
   "outputs": [
    {
     "name": "stdout",
     "output_type": "stream",
     "text": [
      "[{'name': 'Prabhjeet', 'age': 25}]\n"
     ]
    }
   ],
   "source": [
    "dictionary = [\n",
    "  {\"name\": \"Prabhjeet\",\"age\": 25},\n",
    "  {\"name\":\"Singh\", \"age\": 15}\n",
    "]\n",
    "\n",
    "def get_name(people):\n",
    "  if people['age'] > 18:\n",
    "    return people['name']\n",
    "\n",
    "ans = list(filter(lambda x:x['age']>18, dictionary))\n",
    "print(ans)\n"
   ]
  },
  {
   "cell_type": "code",
   "execution_count": null,
   "metadata": {},
   "outputs": [],
   "source": []
  }
 ],
 "metadata": {
  "kernelspec": {
   "display_name": "Python 3",
   "language": "python",
   "name": "python3"
  },
  "language_info": {
   "codemirror_mode": {
    "name": "ipython",
    "version": 3
   },
   "file_extension": ".py",
   "mimetype": "text/x-python",
   "name": "python",
   "nbconvert_exporter": "python",
   "pygments_lexer": "ipython3",
   "version": "3.12.0"
  }
 },
 "nbformat": 4,
 "nbformat_minor": 2
}
