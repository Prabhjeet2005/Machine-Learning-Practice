{
 "cells": [
  {
   "cell_type": "markdown",
   "metadata": {},
   "source": [
    "# Positional Arguments"
   ]
  },
  {
   "cell_type": "code",
   "execution_count": 40,
   "metadata": {},
   "outputs": [
    {
     "name": "stdout",
     "output_type": "stream",
     "text": [
      "1\n",
      "2\n",
      "3\n",
      "a\n",
      "Hello\n",
      "23\n"
     ]
    }
   ],
   "source": [
    "def printnum(*args):\n",
    "  for num in args:\n",
    "    print(num)\n",
    "    \n",
    "printnum(1,2,3,\"a\",\"Hello\",23)"
   ]
  },
  {
   "cell_type": "markdown",
   "metadata": {},
   "source": [
    "# Keyword Arguments"
   ]
  },
  {
   "cell_type": "code",
   "execution_count": 41,
   "metadata": {},
   "outputs": [
    {
     "name": "stdout",
     "output_type": "stream",
     "text": [
      "name,Prabh\n",
      "age,23\n"
     ]
    }
   ],
   "source": [
    "def printnum(**kwargs):\n",
    "    for key, val in kwargs.items():\n",
    "        print(f\"{key},{val}\")\n",
    "\n",
    "printnum(name=\"Prabh\", age=23)"
   ]
  },
  {
   "cell_type": "markdown",
   "metadata": {},
   "source": [
    "## Positional + Keyword Arguments"
   ]
  },
  {
   "cell_type": "code",
   "execution_count": 42,
   "metadata": {},
   "outputs": [
    {
     "name": "stdout",
     "output_type": "stream",
     "text": [
      "Positional Argument: 1\n",
      "Positional Argument: 2\n",
      "Positional Argument: 3\n",
      "Positional Argument: Prabhjeet\n",
      "Positional Argument: 4\n",
      "name,Prabh\n",
      "age,25\n"
     ]
    }
   ],
   "source": [
    "def pos_key(*args,**kwargs):\n",
    "  for val in args:\n",
    "    print(f\"Positional Argument: {val}\")\n",
    "  for key,val in kwargs.items():\n",
    "    print(f\"{key},{val}\")\n",
    "\n",
    "pos_key(1,2,3,\"Prabhjeet\",4,name=\"Prabh\",age=25)"
   ]
  },
  {
   "cell_type": "code",
   "execution_count": 43,
   "metadata": {},
   "outputs": [
    {
     "name": "stdout",
     "output_type": "stream",
     "text": [
      "Weak Password\n"
     ]
    }
   ],
   "source": [
    "def passStrengthChecker(**kwargs):\n",
    "    freq = {\"upper\" : 0,\"num\": 0,\"lower\": 0}\n",
    "    for key, val in kwargs.items():\n",
    "        for i in val:\n",
    "            if i.isupper():\n",
    "                if freq[\"upper\"] != 0:\n",
    "                    freq[\"upper\"] += 1\n",
    "                else:\n",
    "                    freq[\"upper\"] = 1\n",
    "            elif i.islower():\n",
    "                if freq[\"lower\"] != 0:\n",
    "                    freq[\"lower\"] += 1\n",
    "                else:\n",
    "                    freq[\"lower\"] = 1\n",
    "            elif(i.isdigit() < 10 ):\n",
    "                if(freq['num'] != 0):\n",
    "                    freq['num'] += 1\n",
    "                else:\n",
    "                    freq['num'] = 1\n",
    "    if(freq[\"upper\"]>0 and freq[\"lower\"]>0 and freq[\"num\"]>0):\n",
    "        return \"Strong Password\"\n",
    "    else:\n",
    "        return \"Weak Password\"\n",
    "print(passStrengthChecker(password = \"activa@7001\"))"
   ]
  },
  {
   "cell_type": "code",
   "execution_count": 44,
   "metadata": {},
   "outputs": [
    {
     "name": "stdout",
     "output_type": "stream",
     "text": [
      "True\n"
     ]
    }
   ],
   "source": [
    "def isPalindrome(s):\n",
    "  start = 0\n",
    "  end = len(s)-1\n",
    "  while(start < end):\n",
    "    if(s[start] != s[end]):\n",
    "      return False\n",
    "    start+=1\n",
    "    end-=1\n",
    "  return True\n",
    "\n",
    "print(isPalindrome(\"racecar\"))\n",
    "    "
   ]
  },
  {
   "cell_type": "code",
   "execution_count": 45,
   "metadata": {},
   "outputs": [
    {
     "name": "stdout",
     "output_type": "stream",
     "text": [
      "120\n"
     ]
    }
   ],
   "source": [
    "def fact(n):\n",
    "  if(n==1):\n",
    "    return 1\n",
    "  return n*fact(n-1)\n",
    "print(fact(5))"
   ]
  },
  {
   "cell_type": "markdown",
   "metadata": {},
   "source": [
    "## Count Word Frequency in Another File"
   ]
  },
  {
   "cell_type": "code",
   "execution_count": 48,
   "metadata": {},
   "outputs": [
    {
     "name": "stdout",
     "output_type": "stream",
     "text": [
      "{'hi': 1, 'my': 1, 'name': 1, 'is': 1, 'prabhjeet': 2, 'singh': 1}\n"
     ]
    }
   ],
   "source": [
    "def count_words(filePath):\n",
    "  freq = {}\n",
    "  with open(filePath,'r') as file:\n",
    "    for line in file:\n",
    "      words = line.lower().split()\n",
    "      for word in words:\n",
    "        freq[word] = freq.get(word,0)+1\n",
    "  return freq\n",
    "\n",
    "print(count_words('sample.txt'))"
   ]
  },
  {
   "cell_type": "markdown",
   "metadata": {},
   "source": [
    "## Validate Email"
   ]
  },
  {
   "cell_type": "code",
   "execution_count": 63,
   "metadata": {},
   "outputs": [
    {
     "name": "stdout",
     "output_type": "stream",
     "text": [
      "Valid Email\n"
     ]
    }
   ],
   "source": [
    "def validateEmail(s):\n",
    "  freq = {}\n",
    "  for char in s:\n",
    "    if '.' == char:\n",
    "      freq['dot'] = freq.get('dot',0)+1\n",
    "    if '@' == char:\n",
    "      freq['at'] = freq.get('at',0)+1\n",
    "  if(freq.get('dot') != 1 or freq.get('at')!=1):\n",
    "    return \"Invalid Email\"\n",
    "  return \"Valid Email\"\n",
    "\n",
    "print(validateEmail('prabhjeet@.gmailcom'))"
   ]
  },
  {
   "cell_type": "code",
   "execution_count": null,
   "metadata": {},
   "outputs": [],
   "source": []
  }
 ],
 "metadata": {
  "kernelspec": {
   "display_name": "Python 3",
   "language": "python",
   "name": "python3"
  },
  "language_info": {
   "codemirror_mode": {
    "name": "ipython",
    "version": 3
   },
   "file_extension": ".py",
   "mimetype": "text/x-python",
   "name": "python",
   "nbconvert_exporter": "python",
   "pygments_lexer": "ipython3",
   "version": "3.12.0"
  }
 },
 "nbformat": 4,
 "nbformat_minor": 2
}
