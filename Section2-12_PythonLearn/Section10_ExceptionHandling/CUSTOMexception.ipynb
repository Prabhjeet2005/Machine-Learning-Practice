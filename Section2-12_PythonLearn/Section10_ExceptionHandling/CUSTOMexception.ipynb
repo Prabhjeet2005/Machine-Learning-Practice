{
 "cells": [
  {
   "cell_type": "markdown",
   "metadata": {},
   "source": [
    "# Custom Exception"
   ]
  },
  {
   "cell_type": "code",
   "execution_count": 3,
   "metadata": {},
   "outputs": [
    {
     "name": "stdout",
     "output_type": "stream",
     "text": [
      "Dob Not Valid\n"
     ]
    }
   ],
   "source": [
    "class Error(Exception):\n",
    "  pass\n",
    "\n",
    "class dobException(Error):\n",
    "  pass\n",
    "\n",
    "try:\n",
    "  year = int(input(\"Enter Year of Date Of Birth: \"))\n",
    "  age = 2024 - year\n",
    "  if( age >20 and age < 30 ):\n",
    "    print(\"Age Valid For Exam\")\n",
    "  else:\n",
    "    raise dobException\n",
    "except dobException:\n",
    "  print(\"Dob Not Valid\")"
   ]
  },
  {
   "cell_type": "code",
   "execution_count": null,
   "metadata": {},
   "outputs": [],
   "source": []
  }
 ],
 "metadata": {
  "kernelspec": {
   "display_name": "Python 3",
   "language": "python",
   "name": "python3"
  },
  "language_info": {
   "codemirror_mode": {
    "name": "ipython",
    "version": 3
   },
   "file_extension": ".py",
   "mimetype": "text/x-python",
   "name": "python",
   "nbconvert_exporter": "python",
   "pygments_lexer": "ipython3",
   "version": "3.12.0"
  }
 },
 "nbformat": 4,
 "nbformat_minor": 2
}
