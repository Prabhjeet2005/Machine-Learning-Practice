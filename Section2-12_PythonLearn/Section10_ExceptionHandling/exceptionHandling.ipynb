{
 "cells": [
  {
   "cell_type": "markdown",
   "metadata": {},
   "source": [
    "# Exception Handling\t(try-except-else-finally)\n",
    "try:\n",
    "\n",
    "except ZeroDivisionError as zd:\t// Catch Specific Exception\n",
    "\n",
    "except Exception as ex:\t// Catch all Exception\n",
    "\n",
    "else:\t// Execute after try block if no exception is raised\n",
    "\n",
    "finally:\t// Error or Not will always execute\n"
   ]
  },
  {
   "cell_type": "code",
   "execution_count": 10,
   "metadata": {},
   "outputs": [
    {
     "name": "stdout",
     "output_type": "stream",
     "text": [
      "Hello\n",
      "Caught All Exceptions\n",
      "print Regardless Error or Not\n"
     ]
    }
   ],
   "source": [
    "try:\n",
    "  print(\"Hello\")\n",
    "  a=b  \n",
    "except ZeroDivisionError as zd:\n",
    "  print(f\"Variable Not Assigned\")\n",
    "except Exception as ex:\n",
    "  print(\"Caught All Exceptions\")\n",
    "else:\n",
    "  print(\"If no Error Then Print this\")\n",
    "finally:\n",
    "  print(\"print Regardless Error or Not\")"
   ]
  },
  {
   "cell_type": "code",
   "execution_count": 21,
   "metadata": {},
   "outputs": [
    {
     "name": "stdout",
     "output_type": "stream",
     "text": [
      "\n",
      "\n",
      "file closed\n"
     ]
    }
   ],
   "source": [
    "## File Handling And Exception Handling\n",
    "\n",
    "try:\n",
    "  file = open(\"Example.txt\",'r')\n",
    "  content = file.read()\n",
    "  print(content)\n",
    "except FileNotFoundError as f:\n",
    "  print(f\"File don't Exist\")\n",
    "finally :\n",
    "  if 'file' in locals() or not file.closed():\n",
    "    file.close()\n",
    "    print('file closed')"
   ]
  },
  {
   "cell_type": "code",
   "execution_count": null,
   "metadata": {},
   "outputs": [],
   "source": []
  },
  {
   "cell_type": "code",
   "execution_count": null,
   "metadata": {},
   "outputs": [],
   "source": []
  }
 ],
 "metadata": {
  "kernelspec": {
   "display_name": "Python 3",
   "language": "python",
   "name": "python3"
  },
  "language_info": {
   "codemirror_mode": {
    "name": "ipython",
    "version": 3
   },
   "file_extension": ".py",
   "mimetype": "text/x-python",
   "name": "python",
   "nbconvert_exporter": "python",
   "pygments_lexer": "ipython3",
   "version": "3.12.0"
  }
 },
 "nbformat": 4,
 "nbformat_minor": 2
}
