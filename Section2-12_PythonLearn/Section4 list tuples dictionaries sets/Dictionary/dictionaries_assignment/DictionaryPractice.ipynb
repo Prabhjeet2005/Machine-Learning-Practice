{
 "cells": [
  {
   "cell_type": "markdown",
   "metadata": {},
   "source": [
    "# No. of Frequency of Element in List By Dictionary\n"
   ]
  },
  {
   "cell_type": "code",
   "execution_count": 1,
   "metadata": {},
   "outputs": [
    {
     "name": "stdout",
     "output_type": "stream",
     "text": [
      "{1: 1, 2: 4, 3: 9, 4: 16, 5: 25, 6: 36, 7: 49, 8: 64, 9: 81, 10: 100}\n"
     ]
    }
   ],
   "source": [
    "dic = {x:x**2 for x in range(1,11,1)}\n",
    "print(dic)"
   ]
  },
  {
   "cell_type": "code",
   "execution_count": 2,
   "metadata": {},
   "outputs": [
    {
     "name": "stdout",
     "output_type": "stream",
     "text": [
      "25\n"
     ]
    }
   ],
   "source": [
    "print(dic[5])"
   ]
  },
  {
   "cell_type": "code",
   "execution_count": 3,
   "metadata": {},
   "outputs": [
    {
     "name": "stdout",
     "output_type": "stream",
     "text": [
      "{2: 4, 3: 9, 4: 16, 5: 25, 6: 36, 7: 49, 8: 64, 9: 81, 10: 100, 11: 121}\n"
     ]
    }
   ],
   "source": [
    "dic[11] = 121\n",
    "del dic[1]\n",
    "print(dic)"
   ]
  },
  {
   "cell_type": "code",
   "execution_count": 6,
   "metadata": {},
   "outputs": [
    {
     "name": "stdout",
     "output_type": "stream",
     "text": [
      "( Key:2 ,Value:4 )\n",
      "( Key:3 ,Value:9 )\n",
      "( Key:4 ,Value:16 )\n",
      "( Key:5 ,Value:25 )\n",
      "( Key:6 ,Value:36 )\n",
      "( Key:7 ,Value:49 )\n",
      "( Key:8 ,Value:64 )\n",
      "( Key:9 ,Value:81 )\n",
      "( Key:10 ,Value:100 )\n",
      "( Key:11 ,Value:121 )\n"
     ]
    }
   ],
   "source": [
    "for key,value in dic.items():\n",
    "  print(f\"( Key:{key} ,Value:{value} )\")"
   ]
  },
  {
   "cell_type": "code",
   "execution_count": 8,
   "metadata": {},
   "outputs": [
    {
     "name": "stdout",
     "output_type": "stream",
     "text": [
      "{1: 1, 2: 8, 3: 27, 4: 64, 5: 125, 6: 216, 7: 343, 8: 512, 9: 729, 10: 1000}\n"
     ]
    }
   ],
   "source": [
    "dic2 = {x:x**3 for x in range(1,11,1)}\n",
    "print(dic2)"
   ]
  },
  {
   "cell_type": "code",
   "execution_count": 9,
   "metadata": {},
   "outputs": [
    {
     "name": "stdout",
     "output_type": "stream",
     "text": [
      "{1: 1, 2: 4, 3: 9, 4: 16, 5: 25, 6: 36, 7: 49, 8: 64, 9: 81, 10: 100}\n"
     ]
    }
   ],
   "source": [
    "dict1 = {x:x**2 for x in range(1,6,1)}\n",
    "dict2 = {x:x**2 for x in range(6,11,1)}\n",
    "\n",
    "merged_dict = {**dict1, **dict2}\n",
    "print(merged_dict)"
   ]
  },
  {
   "cell_type": "code",
   "execution_count": 20,
   "metadata": {},
   "outputs": [
    {
     "name": "stdout",
     "output_type": "stream",
     "text": [
      "dict_items([('name', 'Prabhjeet'), ('age', 25), ('grades', {'math': 'A', 'science': 'C', 'english': 'B'})])\n"
     ]
    }
   ],
   "source": [
    "student = {'name':\"Prabhjeet\",'age':25,'grades':{'math':'A','science':'C','english':'B'}}\n",
    "print(student.items())"
   ]
  },
  {
   "cell_type": "code",
   "execution_count": 11,
   "metadata": {},
   "outputs": [
    {
     "name": "stdout",
     "output_type": "stream",
     "text": [
      "{1: [1, 2, 3, 4, 5], 2: [2, 4, 6, 8, 10], 3: [3, 6, 9, 12, 15], 4: [4, 8, 12, 16, 20], 5: [5, 10, 15, 20, 25]}\n"
     ]
    }
   ],
   "source": [
    "dict = {x:[x*i for i in range(1,6)] for x in range(1,6,1)}\n",
    "print(dict)"
   ]
  },
  {
   "cell_type": "code",
   "execution_count": 15,
   "metadata": {},
   "outputs": [
    {
     "name": "stdout",
     "output_type": "stream",
     "text": [
      "{1: (1, 1), 2: (2, 4), 3: (3, 9), 4: (4, 16), 5: (5, 25)}\n"
     ]
    }
   ],
   "source": [
    "dict = {x:(x,x**2) for x in range(1,6,1)}\n",
    "print(dict)"
   ]
  },
  {
   "cell_type": "code",
   "execution_count": 21,
   "metadata": {},
   "outputs": [
    {
     "name": "stdout",
     "output_type": "stream",
     "text": [
      "[(1, 1), (2, 4), (3, 9), (4, 16), (5, 25)]\n"
     ]
    }
   ],
   "source": [
    "dict = {x:x**2 for x in range(1,6,1)}\n",
    "#Assignmrnt 10\n",
    "print(list(dict.items()))"
   ]
  },
  {
   "cell_type": "code",
   "execution_count": 22,
   "metadata": {},
   "outputs": [
    {
     "name": "stdout",
     "output_type": "stream",
     "text": [
      "{2: 4, 4: 16, 6: 36, 8: 64, 10: 100}\n"
     ]
    }
   ],
   "source": [
    "dict = {x:x**2 for x in range(1,11,1)}\n",
    "even_dict = {key:val for key,val in dict.items() if(key%2==0)}\n",
    "print(new_dict)"
   ]
  },
  {
   "cell_type": "code",
   "execution_count": 23,
   "metadata": {},
   "outputs": [
    {
     "name": "stdout",
     "output_type": "stream",
     "text": [
      "{1: 1, 4: 2, 9: 3, 16: 4, 25: 5}\n"
     ]
    }
   ],
   "source": [
    "orig = {x:x**2 for x in range(1,6,1)}\n",
    "swapped = {val:key for key,val in orig.items()}\n",
    "print(swapped)"
   ]
  },
  {
   "cell_type": "code",
   "execution_count": 25,
   "metadata": {},
   "outputs": [
    {
     "name": "stdout",
     "output_type": "stream",
     "text": [
      "defaultdict(<class 'list'>, {1: ['a']})\n"
     ]
    }
   ],
   "source": [
    "from collections import defaultdict\n",
    "dict = defaultdict(list)\n",
    "dict[1].append('a')\n",
    "print(dict)"
   ]
  },
  {
   "cell_type": "code",
   "execution_count": 36,
   "metadata": {},
   "outputs": [
    {
     "name": "stdout",
     "output_type": "stream",
     "text": [
      "{'c': 1, 'h': 1, 'i': 1, 'n': 1, 't': 2, 'u': 1}\n"
     ]
    }
   ],
   "source": [
    "def take(s):\n",
    "\tcnt_dict = {}\n",
    "\tfor ch in s:\n",
    "\t\tif ch in cnt_dict:\n",
    "\t\t\tcnt_dict[ch] += 1\n",
    "\t\telse:\n",
    "\t\t\tcnt_dict[ch] = 1\n",
    "\n",
    "\treturn cnt_dict\n",
    "\n",
    "print(take(\"chinttu\"))"
   ]
  },
  {
   "cell_type": "code",
   "execution_count": null,
   "metadata": {},
   "outputs": [],
   "source": []
  }
 ],
 "metadata": {
  "kernelspec": {
   "display_name": "Python 3",
   "language": "python",
   "name": "python3"
  },
  "language_info": {
   "codemirror_mode": {
    "name": "ipython",
    "version": 3
   },
   "file_extension": ".py",
   "mimetype": "text/x-python",
   "name": "python",
   "nbconvert_exporter": "python",
   "pygments_lexer": "ipython3",
   "version": "3.12.0"
  }
 },
 "nbformat": 4,
 "nbformat_minor": 2
}
