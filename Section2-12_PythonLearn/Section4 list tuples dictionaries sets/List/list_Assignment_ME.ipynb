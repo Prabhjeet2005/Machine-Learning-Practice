{
 "cells": [
  {
   "cell_type": "code",
   "execution_count": 15,
   "metadata": {},
   "outputs": [
    {
     "name": "stdout",
     "output_type": "stream",
     "text": [
      "[1, 2, 3, 4, 5, 6, 7, 8, 9, 10, 11, 12, 13, 14, 15, 16, 17, 18, 19, 20]\n"
     ]
    }
   ],
   "source": [
    "lst = [x for x in range(1,21,1)]\n",
    "print(lst)"
   ]
  },
  {
   "cell_type": "code",
   "execution_count": 16,
   "metadata": {},
   "outputs": [
    {
     "name": "stdout",
     "output_type": "stream",
     "text": [
      "11\n"
     ]
    }
   ],
   "source": [
    "first = lst[(len(lst)//2)]\n",
    "print(first)"
   ]
  },
  {
   "cell_type": "code",
   "execution_count": 17,
   "metadata": {},
   "outputs": [
    {
     "name": "stdout",
     "output_type": "stream",
     "text": [
      "[1, 2, 3, 4, 5]\n",
      "[16, 17, 18, 19, 20]\n",
      "[6, 7, 8, 9, 10, 11, 12, 13, 14, 15, 16]\n"
     ]
    }
   ],
   "source": [
    "print(lst[:5])\n",
    "print(lst[-5:])\n",
    "print(lst[5:16])"
   ]
  },
  {
   "cell_type": "code",
   "execution_count": 19,
   "metadata": {},
   "outputs": [
    {
     "name": "stdout",
     "output_type": "stream",
     "text": [
      "[1, 4, 9, 16, 25, 36, 49, 64, 81, 100]\n"
     ]
    }
   ],
   "source": [
    "# Assgn4\n",
    "square = [x**2 for x in range(1,11,1)]\n",
    "print(square)"
   ]
  },
  {
   "cell_type": "code",
   "execution_count": 23,
   "metadata": {},
   "outputs": [
    {
     "name": "stdout",
     "output_type": "stream",
     "text": [
      "[2, 4, 6, 8, 10, 12, 14, 16, 18, 20]\n"
     ]
    }
   ],
   "source": [
    "onlyEven = [x for x in lst if(x%2==0) ]\n",
    "print(onlyEven)"
   ]
  },
  {
   "cell_type": "code",
   "execution_count": 32,
   "metadata": {},
   "outputs": [
    {
     "name": "stdout",
     "output_type": "stream",
     "text": [
      "[8, 1, 3, 8, 4, 8, 7, 4, 6, 7]\n",
      "Sorted:  [1, 3, 4, 4, 6, 7, 7, 8, 8, 8]\n",
      "Modified:  [1, 3, 4, 6, 7, 8]\n"
     ]
    }
   ],
   "source": [
    "import random\n",
    "rand = [random.randint(1,10) for i in range(10)]\n",
    "print(rand)\n",
    "rand.sort()\n",
    "print(\"Sorted: \",rand)\n",
    "for x in rand:\n",
    "\tcnt = rand.count(x)\n",
    "\twhile(cnt > 1):\n",
    "\t\trand.remove(x)\n",
    "\t\tcnt-=1\n",
    "    \n",
    "print(\"Modified: \",rand)"
   ]
  },
  {
   "cell_type": "code",
   "execution_count": 39,
   "metadata": {},
   "outputs": [
    {
     "name": "stdout",
     "output_type": "stream",
     "text": [
      "3\n",
      "9\n",
      "6\n",
      "6\n",
      "4\n",
      "6\n",
      "2\n",
      "4\n",
      "8\n"
     ]
    }
   ],
   "source": [
    "matrix = [random.randint(1, 10) for i in range(3) for j in range(3)]\n",
    "for x in (matrix):\n",
    "    print(x)"
   ]
  },
  {
   "cell_type": "code",
   "execution_count": 44,
   "metadata": {},
   "outputs": [
    {
     "name": "stdout",
     "output_type": "stream",
     "text": [
      "[{'name': 'Sandhu', 'Score': 100}, {'name': 'Prabhjeet', 'Score': 95}, {'name': 'Singh', 'Score': 91}]\n"
     ]
    }
   ],
   "source": [
    "dict = [\n",
    "    {\"name\": \"Prabhjeet\", \"Score\": 95},\n",
    "    {\"name\": \"Singh\", \"Score\": 91},\n",
    "    {\"name\": \"Sandhu\", \"Score\": 100}\n",
    "]\n",
    "\n",
    "dict.sort(key=lambda x:int(x[\"Score\"]), reverse=True)\n",
    "print(dict)"
   ]
  },
  {
   "cell_type": "code",
   "execution_count": null,
   "metadata": {},
   "outputs": [],
   "source": []
  }
 ],
 "metadata": {
  "kernelspec": {
   "display_name": "Python 3",
   "language": "python",
   "name": "python3"
  },
  "language_info": {
   "codemirror_mode": {
    "name": "ipython",
    "version": 3
   },
   "file_extension": ".py",
   "mimetype": "text/x-python",
   "name": "python",
   "nbconvert_exporter": "python",
   "pygments_lexer": "ipython3",
   "version": "3.12.0"
  }
 },
 "nbformat": 4,
 "nbformat_minor": 2
}
