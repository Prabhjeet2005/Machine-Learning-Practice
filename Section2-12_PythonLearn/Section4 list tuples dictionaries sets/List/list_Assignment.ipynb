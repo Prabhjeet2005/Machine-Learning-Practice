{
 "cells": [
  {
   "cell_type": "markdown",
   "metadata": {},
   "source": [
    "# Module 3: Data Structures Assignments\n",
    "## Lesson 3.1: Lists\n",
    "### Assignment 1: Creating and Accessing Lists\n",
    "\n",
    "Create a list of the first 20 positive integers. Print the list.\n",
    "\n",
    "### Assignment 2: Accessing List Elements\n",
    "\n",
    "Print the first, middle, and last elements of the list created in Assignment 1.\n",
    "\n",
    "### Assignment 3: List Slicing\n",
    "\n",
    "Print the first five elements, the last five elements, and the elements from index 5 to 15 of the list created in Assignment 1.\n",
    "\n",
    "### Assignment 4: List Comprehensions\n",
    "\n",
    "Create a new list containing the squares of the first 10 positive integers using a list comprehension. Print the new list.\n",
    "\n",
    "### Assignment 5: Filtering Lists\n",
    "\n",
    "Create a new list containing only the even numbers from the list created in Assignment 1 using a list comprehension. Print the new list.\n",
    "\n",
    "### Assignment 6: List Methods\n",
    "\n",
    "Create a list of random numbers and sort it in ascending and descending order. Remove the duplicates from the list and print the modified list.\n",
    "\n",
    "### Assignment 7: Nested Lists\n",
    "\n",
    "Create a nested list representing a 3x3 matrix and print the matrix. Access and print the element at the second row and third column.\n",
    "\n",
    "### Assignment 8: List of Dictionaries\n",
    "\n",
    "Create a list of dictionaries where each dictionary represents a student with keys 'name' and 'score'. Sort the list of dictionaries by the 'score' in descending order and print the sorted list.\n",
    "\n",
    "### Assignment 9: Matrix Transposition\n",
    "\n",
    "Write a function that takes a 3x3 matrix (nested list) as input and returns its transpose. Print the original and transposed matrices.\n",
    "\n",
    "### Assignment 10: Flattening a Nested List\n",
    "\n",
    "Write a function that takes a nested list and flattens it into a single list. Print the original and flattened lists.\n",
    "\n",
    "### Assignment 11: List Manipulation\n",
    "\n",
    "Create a list of the first 10 positive integers. Remove the elements at indices 2, 4, and 6, and insert the element '99' at index 5. Print the modified list.\n",
    "\n",
    "### Assignment 12: List Zipping\n",
    "\n",
    "Create two lists of the same length. Use the `zip` function to combine these lists into a list of tuples and print the result.\n",
    "\n",
    "### Assignment 13: List Reversal\n",
    "\n",
    "Write a function that takes a list and returns a new list with the elements in reverse order. Print the original and reversed lists.\n",
    "\n",
    "### Assignment 14: List Rotation\n",
    "\n",
    "Write a function that rotates a list by n positions. Print the original and rotated lists.\n",
    "\n",
    "### Assignment 15: List Intersection\n",
    "\n",
    "Write a function that takes two lists and returns a new list containing only the elements that are present in both lists. Print the intersected list."
   ]
  },
  {
   "cell_type": "code",
   "execution_count": null,
   "id": "9f3dbb6b",
   "metadata": {},
   "outputs": [
    {
     "name": "stdout",
     "output_type": "stream",
     "text": [
      "[1, 2, 3, 4, 5, 6, 7, 8, 9, 10, 11, 12, 13, 14, 15, 16, 17, 18, 19, 20]\n"
     ]
    }
   ],
   "source": [
    "lst = [x for x in range(1,21,1)]\n",
    "print(lst)"
   ]
  },
  {
   "cell_type": "code",
   "execution_count": null,
   "id": "c810c58c",
   "metadata": {},
   "outputs": [
    {
     "name": "stdout",
     "output_type": "stream",
     "text": [
      "11\n"
     ]
    }
   ],
   "source": [
    "first = lst[(len(lst)//2)]\n",
    "print(first)"
   ]
  },
  {
   "cell_type": "code",
   "execution_count": null,
   "id": "8223f56b",
   "metadata": {},
   "outputs": [
    {
     "name": "stdout",
     "output_type": "stream",
     "text": [
      "[1, 2, 3, 4, 5]\n",
      "[16, 17, 18, 19, 20]\n",
      "[6, 7, 8, 9, 10, 11, 12, 13, 14, 15, 16]\n"
     ]
    }
   ],
   "source": [
    "print(lst[:5])\n",
    "print(lst[-5:])\n",
    "print(lst[5:16])"
   ]
  },
  {
   "cell_type": "code",
   "execution_count": null,
   "id": "682f6cb0",
   "metadata": {},
   "outputs": [
    {
     "name": "stdout",
     "output_type": "stream",
     "text": [
      "[1, 4, 9, 16, 25, 36, 49, 64, 81, 100]\n"
     ]
    }
   ],
   "source": [
    "# Assgn4\n",
    "square = [x**2 for x in range(1,11,1)]\n",
    "print(square)"
   ]
  },
  {
   "cell_type": "code",
   "execution_count": null,
   "id": "bd168a34",
   "metadata": {},
   "outputs": [
    {
     "name": "stdout",
     "output_type": "stream",
     "text": [
      "[2, 4, 6, 8, 10, 12, 14, 16, 18, 20]\n"
     ]
    }
   ],
   "source": [
    "onlyEven = [x for x in lst if(x%2==0) ]\n",
    "print(onlyEven)"
   ]
  },
  {
   "cell_type": "code",
   "execution_count": null,
   "id": "6d692536",
   "metadata": {},
   "outputs": [
    {
     "name": "stdout",
     "output_type": "stream",
     "text": [
      "[8, 1, 3, 8, 4, 8, 7, 4, 6, 7]\n",
      "Sorted:  [1, 3, 4, 4, 6, 7, 7, 8, 8, 8]\n",
      "Modified:  [1, 3, 4, 6, 7, 8]\n"
     ]
    }
   ],
   "source": [
    "import random\n",
    "rand = [random.randint(1,10) for i in range(10)]\n",
    "print(rand)\n",
    "rand.sort()\n",
    "print(\"Sorted: \",rand)\n",
    "for x in rand:\n",
    "\tcnt = rand.count(x)\n",
    "\twhile(cnt > 1):\n",
    "\t\trand.remove(x)\n",
    "\t\tcnt-=1\n",
    "    \n",
    "print(\"Modified: \",rand)"
   ]
  },
  {
   "cell_type": "code",
   "execution_count": null,
   "id": "c97c8060",
   "metadata": {},
   "outputs": [
    {
     "name": "stdout",
     "output_type": "stream",
     "text": [
      "3\n",
      "9\n",
      "6\n",
      "6\n",
      "4\n",
      "6\n",
      "2\n",
      "4\n",
      "8\n"
     ]
    }
   ],
   "source": [
    "matrix = [random.randint(1, 10) for i in range(3) for j in range(3)]\n",
    "for x in (matrix):\n",
    "    print(x)"
   ]
  },
  {
   "cell_type": "code",
   "execution_count": null,
   "id": "4e7b3cda",
   "metadata": {},
   "outputs": [
    {
     "name": "stdout",
     "output_type": "stream",
     "text": [
      "[{'name': 'Sandhu', 'Score': 100}, {'name': 'Prabhjeet', 'Score': 95}, {'name': 'Singh', 'Score': 91}]\n"
     ]
    }
   ],
   "source": [
    "dict = [\n",
    "    {\"name\": \"Prabhjeet\", \"Score\": 95},\n",
    "    {\"name\": \"Singh\", \"Score\": 91},\n",
    "    {\"name\": \"Sandhu\", \"Score\": 100}\n",
    "]\n",
    "\n",
    "dict.sort(key=lambda x:int(x[\"Score\"]), reverse=True)\n",
    "print(dict)"
   ]
  },
  {
   "cell_type": "code",
   "execution_count": null,
   "id": "cb452af1",
   "metadata": {},
   "outputs": [],
   "source": []
  },
  {
   "cell_type": "code",
   "execution_count": null,
   "metadata": {},
   "outputs": [],
   "source": []
  }
 ],
 "metadata": {
  "kernelspec": {
   "display_name": "Python 3",
   "language": "python",
   "name": "python3"
  },
  "language_info": {
   "codemirror_mode": {
    "name": "ipython",
    "version": 3
   },
   "file_extension": ".py",
   "mimetype": "text/x-python",
   "name": "python",
   "nbconvert_exporter": "python",
   "pygments_lexer": "ipython3",
   "version": "3.9.7"
  }
 },
 "nbformat": 4,
 "nbformat_minor": 5
}
