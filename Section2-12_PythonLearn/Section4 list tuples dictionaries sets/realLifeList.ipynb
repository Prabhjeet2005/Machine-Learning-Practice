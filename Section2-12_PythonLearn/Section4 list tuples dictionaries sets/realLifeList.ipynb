{
 "cells": [
  {
   "cell_type": "code",
   "execution_count": 9,
   "metadata": {},
   "outputs": [
    {
     "name": "stdout",
     "output_type": "stream",
     "text": [
      "2\n",
      "['a', 'b', 'c']\n"
     ]
    }
   ],
   "source": [
    "lst=['a','b','c']\n",
    "print(lst.index('c'))\n",
    "print(lst)\n"
   ]
  },
  {
   "cell_type": "code",
   "execution_count": 13,
   "metadata": {},
   "outputs": [
    {
     "name": "stdout",
     "output_type": "stream",
     "text": [
      "Positive:  2 \n",
      "Negative:  1\n"
     ]
    }
   ],
   "source": [
    "feedback = [\"happy\", \"sad\"]\n",
    "\n",
    "string = str(input(\"Enter Feedback\"))\n",
    "feedback.append(string)\n",
    "positive = 0\n",
    "negative = 0\n",
    "for i in feedback:\n",
    "    if i.lower() == \"happy\":\n",
    "        positive += 1\n",
    "    else:\n",
    "        negative += 1\n",
    "print(\"Positive: \", positive, \"\\nNegative: \", negative)"
   ]
  },
  {
   "cell_type": "code",
   "execution_count": null,
   "metadata": {},
   "outputs": [],
   "source": []
  }
 ],
 "metadata": {
  "language_info": {
   "name": "python"
  }
 },
 "nbformat": 4,
 "nbformat_minor": 2
}
