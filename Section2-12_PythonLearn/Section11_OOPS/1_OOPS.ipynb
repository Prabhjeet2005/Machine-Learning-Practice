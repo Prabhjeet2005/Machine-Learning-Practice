{
 "cells": [
  {
   "cell_type": "markdown",
   "metadata": {},
   "source": [
    "# OOPS\n",
    "\n",
    "## Classes And Objects\n"
   ]
  },
  {
   "cell_type": "code",
   "execution_count": null,
   "metadata": {},
   "outputs": [
    {
     "name": "stdout",
     "output_type": "stream",
     "text": [
      "<__main__.Car object at 0x10b5d5400>\n",
      "Labra\n",
      "25\n"
     ]
    }
   ],
   "source": [
    "class Car:\n",
    "    a = 10\n",
    "\n",
    "\n",
    "obj1 = Car()\n",
    "print(obj1)\n",
    "\n",
    "\n",
    "class Dog:\n",
    "    # Constructor\n",
    "    def __init__(self, name, age):\n",
    "        self.name = name\n",
    "        self.age = age\n",
    "\n",
    "\n",
    "dog1 = Dog(\"Labra\", 25)\n",
    "print(dog1.name)\n",
    "print(dog1.age)"
   ]
  },
  {
   "cell_type": "markdown",
   "metadata": {},
   "source": [
    "### Instance Variable and Methods\n"
   ]
  },
  {
   "cell_type": "code",
   "execution_count": null,
   "metadata": {},
   "outputs": [
    {
     "name": "stdout",
     "output_type": "stream",
     "text": [
      "Doggie is Barking\n"
     ]
    }
   ],
   "source": [
    "class Dog:\n",
    "    def __init__(self, name, age):\n",
    "        self.name = name\n",
    "        self.age = age\n",
    "\n",
    "    def bark(self):\n",
    "        print(f\"{self.name} is Barking\")\n",
    "\n",
    "\n",
    "obj1 = Dog(\"Doggie\", 6)\n",
    "obj1.bark()"
   ]
  },
  {
   "cell_type": "code",
   "execution_count": null,
   "metadata": {},
   "outputs": [
    {
     "name": "stdout",
     "output_type": "stream",
     "text": [
      "200 is Depositied. Updated Balance: 5200\n",
      "Insufficient Funds\n",
      "Account Balance: 4600\n"
     ]
    }
   ],
   "source": [
    "# Practical Bank Example [Instance Variable + Methods]\n",
    "\n",
    "class Bank:\n",
    "  def __init__(self,owner,balance=0):\n",
    "    self.balance = balance\n",
    "    self.owner = owner\n",
    "\n",
    "  def deposit(self,amount):\n",
    "    self.balance += amount\n",
    "    print(f\"{amount} is Depositied. Updated Balance: {self.balance}\")\n",
    "\n",
    "  def withdraw(self,amount):\n",
    "    if(amount > self.balance):\n",
    "      print(f\"Insufficient Funds\")\n",
    "    else:\n",
    "      self.balance -= amount\n",
    "\n",
    "  def get_balance(self):\n",
    "    print(f\"Account Balance: {self.balance}\")\n",
    "\n",
    "owner1 = Bank(\"Prabhjeet\",5000)\n",
    "owner2 = Bank(\"Raman\",1000)\n",
    "\n",
    "owner1.deposit(200)\n",
    "owner1.withdraw(10000)  # Give Insufficient Balance\n",
    "owner1.withdraw(600)\n",
    "owner1.get_balance()\n"
   ]
  },
  {
   "cell_type": "code",
   "execution_count": null,
   "metadata": {},
   "outputs": [],
   "source": []
  },
  {
   "cell_type": "code",
   "execution_count": null,
   "metadata": {},
   "outputs": [],
   "source": []
  },
  {
   "cell_type": "markdown",
   "metadata": {},
   "source": [
    "# 1. INHERITANCE\n",
    "- Derived Class inherits from Base Class\n",
    "\n",
    "## Types Inheritance\n",
    "### Single    [ 1 base class 1 Derived Class ]\n",
    "### Multiple  [ Many Base Class 1 Derived Class ]"
   ]
  },
  {
   "cell_type": "code",
   "execution_count": 3,
   "metadata": {},
   "outputs": [
    {
     "name": "stdout",
     "output_type": "stream",
     "text": [
      "The Elecetric car is driving.\n",
      "Car Self Driving: True\n"
     ]
    }
   ],
   "source": [
    "# Single Inheritance\n",
    "\n",
    "# Base Class\n",
    "class Car:\n",
    "  def __init__(self,windows,engineType):\n",
    "    self.windows = windows\n",
    "    self.engineType = engineType\n",
    "  \n",
    "  def drive(self):\n",
    "    print(f\"The {self.engineType} car is driving.\")\n",
    "\n",
    "# Derived Class\n",
    "class Tesla(Car):\n",
    "  def __init__(self,windows,engineType,isSelfDriving):\n",
    "    super().__init__(windows,engineType)\n",
    "    self.isSelfDriving = isSelfDriving\n",
    "\n",
    "  def automatedDriving(self):\n",
    "    print(f\"Car Self Driving: {self.isSelfDriving}\")\n",
    "\n",
    "# Object\n",
    "\n",
    "obj2 = Tesla(5,\"Elecetric\",True)\n",
    "obj2.drive()\n",
    "obj2.automatedDriving()"
   ]
  },
  {
   "cell_type": "markdown",
   "metadata": {},
   "source": [
    "## Multiple Inheritance\n"
   ]
  },
  {
   "cell_type": "code",
   "execution_count": 5,
   "metadata": {},
   "outputs": [
    {
     "name": "stdout",
     "output_type": "stream",
     "text": [
      "Owner of Pet: Prabhjeet, Pet Type: Dog\n"
     ]
    }
   ],
   "source": [
    "class Animal:\n",
    "  def __init__(self,name):\n",
    "    self.name = name\n",
    "\n",
    "class Pet:\n",
    "  def __init__(self,owner):\n",
    "    self.owner = owner\n",
    "\n",
    "class Dog(Animal,Pet):\n",
    "    def __init__(self,owner,name):\n",
    "        Animal.__init__(self,name)\n",
    "        Pet.__init__(self,owner)\n",
    "\n",
    "    def getDetails(self):\n",
    "        print(f\"Owner of Pet: {self.owner}, Pet Type: {self.name}\")\n",
    "\n",
    "\n",
    "obj1 = Dog(\"Prabhjeet\",\"Dog\")\n",
    "obj1.getDetails()"
   ]
  },
  {
   "cell_type": "markdown",
   "metadata": {},
   "source": [
    "# 2. Polymorphism\n",
    "### -Method Overriding\n",
    "### -Abstract Base Class  [IMP]"
   ]
  },
  {
   "cell_type": "code",
   "execution_count": 22,
   "metadata": {},
   "outputs": [
    {
     "name": "stdout",
     "output_type": "stream",
     "text": [
      "Dog Speak\n",
      "Cat Speak\n",
      "Dog Speak\n"
     ]
    }
   ],
   "source": [
    "## Method Overriding\n",
    "\n",
    "# Base Class\n",
    "class Animal:\n",
    "  def speak(self):\n",
    "    print(\"Animal Speak\")\n",
    "\n",
    "# Derived Class 1\n",
    "class Dog(Animal):\n",
    "    def speak(self):\n",
    "        print(\"Dog Speak\")\n",
    "\n",
    "# Derived Class 2\n",
    "class Cat(Animal):\n",
    "  def speak(self):\n",
    "    print(\"Cat Speak\")\n",
    "\n",
    "dog = Dog()\n",
    "dog.speak()\n",
    "cat = Cat()\n",
    "cat.speak()\n",
    "\n",
    "# General Object \n",
    "def animalSpeak(obj):\n",
    "  obj.speak()\n",
    "animalSpeak(dog)\n",
    "\n"
   ]
  },
  {
   "cell_type": "markdown",
   "metadata": {},
   "source": [
    "## Abstract Class\n",
    "- Mandates every class which has been derived from abstract base class to include abstractmethod otherwise error"
   ]
  },
  {
   "cell_type": "code",
   "execution_count": 23,
   "metadata": {},
   "outputs": [
    {
     "name": "stdout",
     "output_type": "stream",
     "text": [
      "Car started\n"
     ]
    }
   ],
   "source": [
    "from abc import ABC,abstractmethod\n",
    "\n",
    "class Vehicle(ABC):\n",
    "  @abstractmethod\n",
    "  def start_engine(self):\n",
    "    pass\n",
    "\n",
    "class Car(Vehicle):\n",
    "  def start_engine(self):\n",
    "    print(\"Car started\")\n",
    "\n",
    "class Motorcycle(Vehicle):\n",
    "  def start_engine(self):\n",
    "    print(\"Motorcycle Started\")\n",
    "\n",
    "obj1 = Car()\n",
    "obj2 = Motorcycle()\n",
    "\n",
    "def startVehicle(obj):\n",
    "  obj.start_engine()\n",
    "\n",
    "startVehicle(obj1)"
   ]
  },
  {
   "cell_type": "markdown",
   "metadata": {},
   "source": [
    "# 3. Encapsulation\n",
    "### Binding of (Data Member + Member Functions)\n",
    "\n",
    "### SYNTAX:-\n",
    "#### Private __       (Double Underscore)\n",
    "#### Public \n",
    "#### Protected _      (Single Underscore)"
   ]
  },
  {
   "cell_type": "code",
   "execution_count": 39,
   "metadata": {},
   "outputs": [
    {
     "name": "stdout",
     "output_type": "stream",
     "text": [
      "Private Age of Prabhjeet : 19\n",
      "Private Age of Prabhjeet : 100\n",
      "Prabhjeet\n",
      "Female\n"
     ]
    }
   ],
   "source": [
    "class Person:\n",
    "  def __init__(self,name,age,gender):\n",
    "    self.name = name        # Public\n",
    "    self.__age = age        # Private \n",
    "    self._gender = gender   # Protected \n",
    "  \n",
    "  def getAge(self):\n",
    "    print(f\"Private Age of {self.name} : {self.__age}\")\n",
    "  def setAge(self,age):\n",
    "    self.__age = age\n",
    "\n",
    "class Derived(Person):\n",
    "    def __init__(self,name,age,gender):\n",
    "        Person.__init__(self,name,age,gender)\n",
    "\n",
    "\n",
    "obj = Person(\"Prabhjeet\",19,\"Male\")\n",
    "obj.getAge()\n",
    "obj.setAge(100)\n",
    "obj.getAge()\n",
    "print(obj.name)\n",
    "# print(obj.__age)  <-- Give Error as Private Member Access\n",
    "\n",
    "obj2 = Derived(\"Raman\",45,\"Female\")\n",
    "print(obj2._gender) # Protected Member Access"
   ]
  },
  {
   "cell_type": "markdown",
   "metadata": {},
   "source": [
    "# 4. Abstraction  \n",
    "### (hiding Complex Data & Show only necessary)\n",
    "\n",
    "Car Start in Own Way before Driving,\n",
    "But Each Vehicle Drive the Same Way"
   ]
  },
  {
   "cell_type": "code",
   "execution_count": 48,
   "metadata": {},
   "outputs": [
    {
     "name": "stdout",
     "output_type": "stream",
     "text": [
      "Vehicle is Driving\n"
     ]
    }
   ],
   "source": [
    "from abc import ABC,abstractmethod\n",
    "\n",
    "class Vehicle(ABC):\n",
    "  def drive(self):\n",
    "    print(\"Vehicle is Driving\")\n",
    "  @abstractmethod\n",
    "  def start_engine(self): # necessary without it car won't drive so abstract method but each car has different complex way\n",
    "    pass\n",
    "\n",
    "class Car(Vehicle):\n",
    "  def start_engine(self):\n",
    "    print(\"Car Has Started\")\n",
    "\n",
    "obj = Car()\n",
    "obj.drive()   # User Only Wants to drive the car but starting is also important but different for each car so abstract class"
   ]
  },
  {
   "cell_type": "markdown",
   "metadata": {},
   "source": [
    "# Magic Methods\n",
    "- ## Override Default Functionality"
   ]
  },
  {
   "cell_type": "code",
   "execution_count": 3,
   "metadata": {},
   "outputs": [
    {
     "name": "stdout",
     "output_type": "stream",
     "text": [
      "Name: Prabhjeet\n"
     ]
    }
   ],
   "source": [
    "'''\n",
    "__init__\n",
    "__str__\n",
    "'''\n",
    "\n",
    "class Person:\n",
    "  def __init__(self,name):\n",
    "    self.name = name\n",
    "  def __str__(self):\n",
    "    return f\"Name: {self.name}\"\n",
    "\n",
    "obj = Person(\"Prabhjeet\")\n",
    "print(obj)  # Expected Memory Location But Overrided with ( return f\"Name: {self.name}\" )"
   ]
  },
  {
   "cell_type": "markdown",
   "metadata": {},
   "source": [
    "# Operator Overloading"
   ]
  },
  {
   "cell_type": "code",
   "execution_count": 9,
   "metadata": {},
   "outputs": [
    {
     "name": "stdout",
     "output_type": "stream",
     "text": [
      "Vector(6,9)\n",
      "Vector(8,10)\n"
     ]
    }
   ],
   "source": [
    "class Vector:\n",
    "    def __init__(self,x,y):\n",
    "        self.x = x\n",
    "        self.y = y\n",
    "\n",
    "    def __add__(self, other):\n",
    "        return Vector(self.x + other.x, self.y + other.y)\n",
    "\n",
    "    def __sub__(self, other):\n",
    "        return Vector(self.x + other.x, self.y + other.y)\n",
    "    def __str__(self):\n",
    "        return f\"Vector({self.x},{self.y})\"\n",
    "\n",
    "\n",
    "obj1 = Vector(2, 4)\n",
    "obj2 = Vector(4, 5)\n",
    "\n",
    "print(obj1+obj2)\n",
    "print(obj2-obj2)"
   ]
  },
  {
   "cell_type": "code",
   "execution_count": null,
   "metadata": {},
   "outputs": [],
   "source": []
  }
 ],
 "metadata": {
  "kernelspec": {
   "display_name": "Python 3",
   "language": "python",
   "name": "python3"
  },
  "language_info": {
   "codemirror_mode": {
    "name": "ipython",
    "version": 3
   },
   "file_extension": ".py",
   "mimetype": "text/x-python",
   "name": "python",
   "nbconvert_exporter": "python",
   "pygments_lexer": "ipython3",
   "version": "3.12.0"
  }
 },
 "nbformat": 4,
 "nbformat_minor": 2
}
