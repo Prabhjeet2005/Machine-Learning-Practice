{
 "cells": [
  {
   "cell_type": "markdown",
   "metadata": {},
   "source": [
    "# Lesson 1.2: Python Basics\n",
    "## Topics Covered:\n",
    "- Syntax and Semantics\n",
    "- Variables and Data Types\n",
    "- Basic Operators (Arithmetic, Comparison, Logical)\n"
   ]
  },
  {
   "cell_type": "markdown",
   "metadata": {},
   "source": [
    "## 1. Syntax and Semantics\n",
    "\n",
    "**Question 1:** Write a Python program to print \"Hello, World!\"."
   ]
  },
  {
   "cell_type": "code",
   "execution_count": 1,
   "metadata": {},
   "outputs": [
    {
     "name": "stdout",
     "output_type": "stream",
     "text": [
      "Hello, World!\n"
     ]
    }
   ],
   "source": [
    "# Your code here\n",
    "print(\"Hello, World!\")"
   ]
  },
  {
   "cell_type": "markdown",
   "metadata": {},
   "source": [
    "**Question 2:** Write a Python program that takes a user input and prints it."
   ]
  },
  {
   "cell_type": "code",
   "execution_count": 3,
   "metadata": {},
   "outputs": [
    {
     "name": "stdout",
     "output_type": "stream",
     "text": [
      "hi\n"
     ]
    }
   ],
   "source": [
    "# Your code hereuserInput\n",
    "userInput = str(input(\"Enter User Input: \"))\n",
    "print(userInput)"
   ]
  },
  {
   "cell_type": "markdown",
   "metadata": {},
   "source": [
    "**Question 3:** Write a Python program to check if a number is positive, negative, or zero."
   ]
  },
  {
   "cell_type": "code",
   "execution_count": 7,
   "metadata": {},
   "outputs": [
    {
     "name": "stdout",
     "output_type": "stream",
     "text": [
      "Number is Positive\n"
     ]
    }
   ],
   "source": [
    "# Your code here\n",
    "num = int(input(\"Enter Number To Check: \"))\n",
    "if(num == 0):\n",
    "  print(\"Number is 0\")\n",
    "elif(num < 0):\n",
    "  print(\"Number is negative\")\n",
    "else:\n",
    "  print(\"Number is Positive\")"
   ]
  },
  {
   "cell_type": "markdown",
   "metadata": {},
   "source": [
    "**Question 4:** Write a Python program to find the largest of three numbers."
   ]
  },
  {
   "cell_type": "code",
   "execution_count": 8,
   "metadata": {},
   "outputs": [
    {
     "name": "stdout",
     "output_type": "stream",
     "text": [
      "Num3 is greatest\n"
     ]
    }
   ],
   "source": [
    "# Your code here\n",
    "num1 = int(input(\"Enter 1st Number: \"))\n",
    "num2 = int(input(\"Enter 2nd Number: \"))\n",
    "num3 = int(input(\"Enter 3rd Number: \"))\n",
    "\n",
    "if(num1 > num2 and num1>num3):\n",
    "  print(\"Num1 is greatest\")\n",
    "elif(num2>num1 and num2 > num3):\n",
    "  print(\"Num2 is greatest\")\n",
    "else:\n",
    "  print(\"Num3 is greatest\")"
   ]
  },
  {
   "cell_type": "markdown",
   "metadata": {},
   "source": [
    "**Question 5:** Write a Python program to calculate the factorial of a number."
   ]
  },
  {
   "cell_type": "code",
   "execution_count": 13,
   "metadata": {},
   "outputs": [
    {
     "name": "stdout",
     "output_type": "stream",
     "text": [
      "120\n"
     ]
    }
   ],
   "source": [
    "# Your code here\n",
    "num = int(input(\"Enter Number To Find Factorial of: \"))\n",
    "ans=1\n",
    "for i in range(1,num+1,1):\n",
    "  ans*=i\n",
    "print(ans)"
   ]
  },
  {
   "cell_type": "markdown",
   "metadata": {},
   "source": [
    "## 2. Variables and Data Types\n",
    "\n",
    "**Question 6:** Create variables of different data types: integer, float, string, and boolean. Print their values and types."
   ]
  },
  {
   "cell_type": "code",
   "execution_count": null,
   "metadata": {},
   "outputs": [],
   "source": [
    "# Your code here\n"
   ]
  },
  {
   "cell_type": "markdown",
   "metadata": {},
   "source": [
    "**Question 7:** Write a Python program to swap the values of two variables."
   ]
  },
  {
   "cell_type": "code",
   "execution_count": 15,
   "metadata": {},
   "outputs": [
    {
     "name": "stdout",
     "output_type": "stream",
     "text": [
      "a:  20 , b:  10\n"
     ]
    }
   ],
   "source": [
    "# Your code here\n",
    "a=10\n",
    "b=20\n",
    "a=a+b\n",
    "b=a-b\n",
    "a=a-b\n",
    "print(\"a: \",a,\", b: \",b)"
   ]
  },
  {
   "cell_type": "markdown",
   "metadata": {},
   "source": [
    "**Question 8:** Write a Python program to convert Celsius to Fahrenheit."
   ]
  },
  {
   "cell_type": "code",
   "execution_count": null,
   "metadata": {},
   "outputs": [],
   "source": [
    "# Your code here"
   ]
  },
  {
   "cell_type": "markdown",
   "metadata": {},
   "source": [
    "**Question 9:** Write a Python program to concatenate two strings."
   ]
  },
  {
   "cell_type": "code",
   "execution_count": 16,
   "metadata": {},
   "outputs": [
    {
     "name": "stdout",
     "output_type": "stream",
     "text": [
      "HelloPrabhjeet\n"
     ]
    }
   ],
   "source": [
    "# Your code here\n",
    "str1=\"Hello\"\n",
    "str2=\"Prabhjeet\"\n",
    "str3 = str1+str2\n",
    "print(str3)"
   ]
  },
  {
   "cell_type": "markdown",
   "metadata": {},
   "source": [
    "**Question 10:** Write a Python program to check if a variable is of a specific data type."
   ]
  },
  {
   "cell_type": "code",
   "execution_count": 20,
   "metadata": {},
   "outputs": [],
   "source": [
    "# Your code here\n",
    "a=10.2\n",
    "if(type(a) == float ):\n",
    "  print(\"It is of String Type\")"
   ]
  },
  {
   "cell_type": "markdown",
   "metadata": {},
   "source": [
    "## 3. Basic Operators (Arithmetic, Comparison, Logical)\n",
    "\n",
    "**Question 11:** Write a Python program to perform arithmetic operations: addition, subtraction, multiplication, and division."
   ]
  },
  {
   "cell_type": "code",
   "execution_count": null,
   "metadata": {},
   "outputs": [],
   "source": [
    "# Your code here"
   ]
  },
  {
   "cell_type": "markdown",
   "metadata": {},
   "source": [
    "**Question 12:** Write a Python program to demonstrate comparison operators: equal to, not equal to, greater than, less than."
   ]
  },
  {
   "cell_type": "code",
   "execution_count": null,
   "metadata": {},
   "outputs": [],
   "source": [
    "# Your code here"
   ]
  },
  {
   "cell_type": "markdown",
   "metadata": {},
   "source": [
    "**Question 13:** Write a Python program to demonstrate logical operators: and, or, not."
   ]
  },
  {
   "cell_type": "code",
   "execution_count": null,
   "metadata": {},
   "outputs": [],
   "source": [
    "# Your code here"
   ]
  },
  {
   "cell_type": "markdown",
   "metadata": {},
   "source": [
    "**Question 14:** Write a Python program to calculate the square of a number."
   ]
  },
  {
   "cell_type": "code",
   "execution_count": 21,
   "metadata": {},
   "outputs": [
    {
     "name": "stdout",
     "output_type": "stream",
     "text": [
      "25\n"
     ]
    }
   ],
   "source": [
    "# Your code here\n",
    "num1 = int(input(\"Enter Number: \"))\n",
    "result=num1**2\n",
    "print(result)"
   ]
  },
  {
   "cell_type": "markdown",
   "metadata": {},
   "source": [
    "**Question 15:** Write a Python program to check if a number is even or odd."
   ]
  },
  {
   "cell_type": "code",
   "execution_count": 22,
   "metadata": {},
   "outputs": [
    {
     "name": "stdout",
     "output_type": "stream",
     "text": [
      "Odd\n"
     ]
    }
   ],
   "source": [
    "# Your code here\n",
    "if(num1%2 == 0):\n",
    "  print(\"Even\")\n",
    "else:\n",
    "  print(\"Odd\")"
   ]
  },
  {
   "cell_type": "markdown",
   "metadata": {},
   "source": [
    "**Question 16:** Write a Python program to find the sum of the first n natural numbers."
   ]
  },
  {
   "cell_type": "code",
   "execution_count": 24,
   "metadata": {},
   "outputs": [
    {
     "name": "stdout",
     "output_type": "stream",
     "text": [
      "Sum of First N Natural Numbers:  15\n"
     ]
    }
   ],
   "source": [
    "# Your code here\n",
    "sum=0\n",
    "for i in range(1,num1+1,1):\n",
    "  sum+=i\n",
    "print(\"Sum of First N Natural Numbers: \",sum)"
   ]
  },
  {
   "cell_type": "markdown",
   "metadata": {},
   "source": [
    "**Question 17:** Write a Python program to check if a year is a leap year."
   ]
  },
  {
   "cell_type": "code",
   "execution_count": 27,
   "metadata": {},
   "outputs": [
    {
     "name": "stdout",
     "output_type": "stream",
     "text": [
      "1\n",
      "3\n",
      "5\n",
      "7\n",
      "9\n"
     ]
    }
   ],
   "source": [
    "for i in range(1,10,2):\n",
    "  print(i)"
   ]
  },
  {
   "cell_type": "markdown",
   "metadata": {},
   "source": [
    "**Question 18:** Write a Python program to reverse a string."
   ]
  },
  {
   "cell_type": "code",
   "execution_count": 26,
   "metadata": {},
   "outputs": [
    {
     "ename": "AttributeError",
     "evalue": "'str' object has no attribute 'length'",
     "output_type": "error",
     "traceback": [
      "\u001b[0;31m---------------------------------------------------------------------------\u001b[0m",
      "\u001b[0;31mAttributeError\u001b[0m                            Traceback (most recent call last)",
      "Cell \u001b[0;32mIn[26], line 4\u001b[0m\n\u001b[1;32m      2\u001b[0m str1 \u001b[38;5;241m=\u001b[39m \u001b[38;5;124m\"\u001b[39m\u001b[38;5;124mHello\u001b[39m\u001b[38;5;124m\"\u001b[39m\n\u001b[1;32m      3\u001b[0m s \u001b[38;5;241m=\u001b[39m str1[\u001b[38;5;241m0\u001b[39m]\n\u001b[0;32m----> 4\u001b[0m e \u001b[38;5;241m=\u001b[39m \u001b[43mstr1\u001b[49m\u001b[38;5;241;43m.\u001b[39;49m\u001b[43mlength\u001b[49m()\u001b[38;5;241m-\u001b[39m\u001b[38;5;241m1\u001b[39m\n\u001b[1;32m      5\u001b[0m \u001b[38;5;28;01mfor\u001b[39;00m i \u001b[38;5;129;01min\u001b[39;00m \u001b[38;5;28mrange\u001b[39m(\u001b[38;5;241m0\u001b[39m,str1\u001b[38;5;241m.\u001b[39msize()\u001b[38;5;241m/\u001b[39m\u001b[38;5;241m2\u001b[39m,\u001b[38;5;241m1\u001b[39m):\n\u001b[1;32m      6\u001b[0m   swap(s,e)\n",
      "\u001b[0;31mAttributeError\u001b[0m: 'str' object has no attribute 'length'"
     ]
    }
   ],
   "source": [
    "# Your code here\n",
    "str1 = \"Hello\"\n",
    "s = str1[0]\n",
    "e = str1.length()-1\n",
    "for i in range(0,str1.size()/2,1):\n",
    "  swap(s,e)\n",
    "print(str1)\n",
    "  "
   ]
  },
  {
   "cell_type": "markdown",
   "metadata": {},
   "source": [
    "**Question 19:** Write a Python program to check if a string is a palindrome."
   ]
  },
  {
   "cell_type": "code",
   "execution_count": null,
   "metadata": {},
   "outputs": [],
   "source": [
    "# Your code here"
   ]
  },
  {
   "cell_type": "markdown",
   "metadata": {},
   "source": [
    "**Question 20:** Write a Python program to sort a list of numbers in ascending order."
   ]
  },
  {
   "cell_type": "code",
   "execution_count": null,
   "metadata": {},
   "outputs": [],
   "source": [
    "# Your code here"
   ]
  }
 ],
 "metadata": {
  "kernelspec": {
   "display_name": "Python 3",
   "language": "python",
   "name": "python3"
  },
  "language_info": {
   "codemirror_mode": {
    "name": "ipython",
    "version": 3
   },
   "file_extension": ".py",
   "mimetype": "text/x-python",
   "name": "python",
   "nbconvert_exporter": "python",
   "pygments_lexer": "ipython3",
   "version": "3.12.0"
  }
 },
 "nbformat": 4,
 "nbformat_minor": 4
}
