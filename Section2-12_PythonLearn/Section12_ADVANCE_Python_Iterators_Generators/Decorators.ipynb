{
 "cells": [
  {
   "cell_type": "markdown",
   "metadata": {},
   "source": [
    "# Decorators\n",
    "Powerful & Flexible feature in Python \n",
    "- Allows to add functionality to function/Class Methods without Modifying Actual Code"
   ]
  },
  {
   "cell_type": "markdown",
   "metadata": {},
   "source": [
    "## 1. Function Copy\t[Prerequisite]"
   ]
  },
  {
   "cell_type": "code",
   "execution_count": 5,
   "metadata": {},
   "outputs": [
    {
     "name": "stdout",
     "output_type": "stream",
     "text": [
      "Welcome\n",
      "Welcome\n"
     ]
    }
   ],
   "source": [
    "def welcome():\n",
    "  print(\"Welcome\")\n",
    "\n",
    "wel = welcome\t# Function Copy\n",
    "wel()\n",
    "del welcome\n",
    "wel()\n",
    "  "
   ]
  },
  {
   "cell_type": "markdown",
   "metadata": {},
   "source": [
    "## 2. Closures [Prerequisite]\n",
    "- Function in a function"
   ]
  },
  {
   "cell_type": "code",
   "execution_count": 9,
   "metadata": {},
   "outputs": [
    {
     "name": "stdout",
     "output_type": "stream",
     "text": [
      "This is Line from in Inner Function\n",
      "Length of List: 4\n",
      "This is Function Parameter\n",
      "Welcome\n"
     ]
    }
   ],
   "source": [
    "# Closures (Function in a Function)\n",
    "def outerFunction(funcParameter,lenParameter,lst):\n",
    "  msg = \"Welcome\"\n",
    "  def innerFunction():\n",
    "    print(\"This is Line from in Inner Function\")\n",
    "    print(f\"Length of List: {lenParameter(lst)}\")\n",
    "    funcParameter(\"This is Function Parameter\")\n",
    "    print(msg)\n",
    "  return innerFunction()\n",
    "\n",
    "outerFunction(print,len,[1,2,3,4])\t# InBuilt Method is passed"
   ]
  },
  {
   "cell_type": "markdown",
   "metadata": {},
   "source": [
    "# Decorator\n",
    "- @outerFunctionName Keyword is used"
   ]
  },
  {
   "cell_type": "code",
   "execution_count": 31,
   "metadata": {},
   "outputs": [
    {
     "name": "stdout",
     "output_type": "stream",
     "text": [
      "Another Function\n",
      "This is Line from in Inner Function\n"
     ]
    }
   ],
   "source": [
    "# Decorator\n",
    "# Closures (Function in a Function)\n",
    "def outerFunction(func):\n",
    "    msg = \"Welcome\"\n",
    "    def innerFunction():\n",
    "        func()\n",
    "        print(\"This is Line from in Inner Function\")\n",
    "\n",
    "    return innerFunction\n",
    "\n",
    "# Not Modifying Code\n",
    "@outerFunction\t# Decorator Keyword Directly Call in inner Function\n",
    "def function():\n",
    "    print(\"Another Function\")\n",
    "    \n",
    "function()\n"
   ]
  },
  {
   "cell_type": "markdown",
   "metadata": {},
   "source": [
    "## Decorator With Argument\n",
    "### If Multiple Arguments pass"
   ]
  },
  {
   "cell_type": "code",
   "execution_count": 38,
   "metadata": {},
   "outputs": [
    {
     "name": "stdout",
     "output_type": "stream",
     "text": [
      "Hello!\n",
      "Hello!\n",
      "Hello!\n"
     ]
    }
   ],
   "source": [
    "# If Multiple Arguments Recieved\n",
    "def outerFunction(n):\n",
    "  def wrapper(func):\n",
    "    def innerFunction(*args,**kwargs):\n",
    "      for i in range(0,n,1):\n",
    "        func(*args,**kwargs)\n",
    "    return innerFunction\n",
    "  return wrapper\n",
    "\n",
    "@outerFunction(3)\n",
    "def say_hello():\n",
    "  print(\"Hello!\")\n",
    "\n",
    "say_hello()"
   ]
  },
  {
   "cell_type": "code",
   "execution_count": null,
   "metadata": {},
   "outputs": [],
   "source": []
  }
 ],
 "metadata": {
  "kernelspec": {
   "display_name": "Python 3",
   "language": "python",
   "name": "python3"
  },
  "language_info": {
   "codemirror_mode": {
    "name": "ipython",
    "version": 3
   },
   "file_extension": ".py",
   "mimetype": "text/x-python",
   "name": "python",
   "nbconvert_exporter": "python",
   "pygments_lexer": "ipython3",
   "version": "3.12.0"
  }
 },
 "nbformat": 4,
 "nbformat_minor": 2
}
