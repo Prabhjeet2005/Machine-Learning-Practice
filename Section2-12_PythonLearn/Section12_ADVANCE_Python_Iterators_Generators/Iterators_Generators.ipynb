{
 "cells": [
  {
   "cell_type": "markdown",
   "metadata": {},
   "source": [
    "# Iterator\n",
    "### Syntax :-\t\n",
    "### iterator = iter(list_name)\n",
    "### next(iterator) // To Move Forward At each execution"
   ]
  },
  {
   "cell_type": "code",
   "execution_count": 64,
   "metadata": {},
   "outputs": [
    {
     "name": "stdout",
     "output_type": "stream",
     "text": [
      "1\n",
      "2\n",
      "3\n",
      "4\n",
      "5\n",
      "6\n",
      "No More Elements in The Iterator\n"
     ]
    }
   ],
   "source": [
    "lst = [1,2,3,4,5,6]\n",
    "iterator = iter(lst)\n",
    "try:\n",
    "  print(next(iterator))\t# 1\n",
    "  print(next(iterator))\t# 2\n",
    "  print(next(iterator))\t# 3\n",
    "  print(next(iterator))\t# 4\n",
    "  print(next(iterator))\t# 5\n",
    "  print(next(iterator))\t# 6\n",
    "  print(next(iterator))\t# Stop Iteration Error\n",
    "except StopIteration:\n",
    "  print(\"No More Elements in The Iterator\")"
   ]
  },
  {
   "cell_type": "code",
   "execution_count": 63,
   "metadata": {},
   "outputs": [
    {
     "name": "stdout",
     "output_type": "stream",
     "text": [
      "H\n",
      "e\n",
      "l\n",
      "l\n",
      "o\n",
      "No more Elements in String Iterator\n"
     ]
    }
   ],
   "source": [
    "str1 = \"Hello\"\n",
    "str_iterator = iter(str1)\n",
    "try:\n",
    "    print(next(str_iterator)) \t# H\n",
    "    print(next(str_iterator))\t# e\n",
    "    print(next(str_iterator))\t# l\n",
    "    print(next(str_iterator))\t# l\n",
    "    print(next(str_iterator))\t# o\n",
    "    print(next(str_iterator))\t# Stop Iteration Error\n",
    "except StopIteration:\n",
    "    print(\"No more Elements in String Iterator\")"
   ]
  },
  {
   "cell_type": "markdown",
   "metadata": {},
   "source": [
    "# Generator\t(MEMORY EFFICIENT)\n",
    "### Keyword: yield\n",
    "- Can Return Multiple yield values"
   ]
  },
  {
   "cell_type": "code",
   "execution_count": 6,
   "metadata": {},
   "outputs": [
    {
     "name": "stdout",
     "output_type": "stream",
     "text": [
      "Way 1:-\n",
      "0\n",
      "1\n",
      "4\n",
      "\n",
      "Way 2:-\n",
      "0\n",
      "1\n",
      "4\n",
      "Stop Iteration Error\n"
     ]
    }
   ],
   "source": [
    "def square(n):\n",
    "  for i in range(0,3,1):\n",
    "    yield i**2\n",
    "\n",
    "print(\"Way 1:-\")\n",
    "for i in square(3):\n",
    "    print(i)\n",
    "\n",
    "\n",
    "print(\"\\nWay 2:-\")\n",
    "generator = square(3)\n",
    "try:\n",
    "  print(next(generator))\n",
    "  print(next(generator))\n",
    "  print(next(generator))\n",
    "  print(next(generator))\n",
    "except:\n",
    "  print(\"Stop Iteration Error\")"
   ]
  },
  {
   "cell_type": "code",
   "execution_count": 71,
   "metadata": {},
   "outputs": [
    {
     "name": "stdout",
     "output_type": "stream",
     "text": [
      "1\n",
      "2\n",
      "Stop Iteration Error\n"
     ]
    }
   ],
   "source": [
    "def my_generator():\n",
    "  yield 1\n",
    "  yield 2\n",
    "\n",
    "generator = my_generator()\n",
    "try:\n",
    "  print(next(generator))\t# 1\n",
    "  print(next(generator))\t# 2\n",
    "  print(next(generator))\t# StopIteration Error\n",
    "except StopIteration:\n",
    "  print(\"Stop Iteration Error\")\n"
   ]
  },
  {
   "cell_type": "markdown",
   "metadata": {},
   "source": [
    "## Practical Example of Generator\n",
    "- ### Useful for reading large Files Because they allow you to process one line at a time without loading the entire file in the memory"
   ]
  },
  {
   "cell_type": "code",
   "execution_count": 5,
   "metadata": {},
   "outputs": [
    {
     "name": "stdout",
     "output_type": "stream",
     "text": [
      "Sample File Line 1\n",
      "Sample File Line 2\n",
      "Sample File Line 3\n",
      "Sample File Line 4\n",
      "Sample File Line 5\n",
      "Sample File Line 6\n"
     ]
    }
   ],
   "source": [
    "# Practical Example of Generator to Read Very Large File\n",
    "def read_file_generator(filePath):\n",
    "  with open(filePath,'r') as file:\n",
    "    for line in file:\n",
    "      yield line\n",
    "\n",
    "for line in read_file_generator('largeFile.txt'):\n",
    "  print(line.strip())\t# .strip() is used to remove \\n in output"
   ]
  },
  {
   "cell_type": "code",
   "execution_count": null,
   "metadata": {},
   "outputs": [],
   "source": []
  }
 ],
 "metadata": {
  "kernelspec": {
   "display_name": "Python 3",
   "language": "python",
   "name": "python3"
  },
  "language_info": {
   "codemirror_mode": {
    "name": "ipython",
    "version": 3
   },
   "file_extension": ".py",
   "mimetype": "text/x-python",
   "name": "python",
   "nbconvert_exporter": "python",
   "pygments_lexer": "ipython3",
   "version": "3.12.0"
  }
 },
 "nbformat": 4,
 "nbformat_minor": 2
}
