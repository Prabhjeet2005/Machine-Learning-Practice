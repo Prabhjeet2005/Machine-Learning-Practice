{
 "cells": [
  {
   "cell_type": "markdown",
   "metadata": {},
   "source": [
    "# NUMPY\n",
    "\n",
    "- ##### Library For Scientific Computing\n",
    "- ##### Provide mathematical operations which support Arrays and Matrices\n"
   ]
  },
  {
   "cell_type": "code",
   "execution_count": 1,
   "metadata": {},
   "outputs": [
    {
     "name": "stdout",
     "output_type": "stream",
     "text": [
      "(5,)\n",
      "[[1 2]\n",
      " [3 4]\n",
      " [5 6]]\n",
      "\n",
      " [[1. 1. 1.]\n",
      " [1. 1. 1.]\n",
      " [1. 1. 1.]]\n",
      "\n",
      " [[1. 0. 0.]\n",
      " [0. 1. 0.]\n",
      " [0. 0. 1.]]\n"
     ]
    }
   ],
   "source": [
    "import numpy as np\n",
    "\n",
    "# Create 1D Array\n",
    "arr1 = np.array([1, 2, 3, 4, 5])\n",
    "print(arr1.shape)  # (5,)\n",
    "\n",
    "## Create 2D Array From 1D Array using reshape\n",
    "arr2 = np.array([1, 2, 3, 4, 5, 6])\n",
    "arr2 = arr2.reshape(3, 2)\n",
    "print(arr2)  # [[1 2],[3 4],[5 6]]\n",
    "\n",
    "# .arange()\n",
    "np.arange(0, 10, 2).reshape(5, 1)  # array([[0],[2],[4],[6],[8]])\n",
    "\n",
    "# .ones()\n",
    "allOne = np.ones((3, 3))  # [[1. 1. 1.] [1. 1. 1.] [1. 1. 1.]]\n",
    "print(\"\\n\", allOne)\n",
    "\n",
    "# .eye()\n",
    "idMat = np.eye(3)  #  [[1. 0. 0.], [0. 1. 0.], [0. 0. 1.]]\n",
    "print(\"\\n\", idMat)"
   ]
  },
  {
   "cell_type": "code",
   "execution_count": 2,
   "metadata": {},
   "outputs": [
    {
     "name": "stdout",
     "output_type": "stream",
     "text": [
      "Array:\n",
      " [[1 2 3]\n",
      " [4 5 6]]\n",
      "Shape:  (2, 3)\n",
      "Number Of Dimensions:  2\n",
      "Size (No. Of Elements):  6\n",
      "Data Type:  int64\n",
      "Item Size (in Bytes):  8\n"
     ]
    }
   ],
   "source": [
    "arr = np.array([[1, 2, 3], [4, 5, 6]])\n",
    "\n",
    "print(\"Array:\\n\", arr)\n",
    "print(\"Shape: \", arr.shape)\n",
    "print(\"Number Of Dimensions: \", arr.ndim)\n",
    "print(\"Size (No. Of Elements): \", arr.size)\n",
    "print(\"Data Type: \", arr.dtype)\n",
    "print(\"Item Size (in Bytes): \", arr.itemsize)"
   ]
  },
  {
   "cell_type": "markdown",
   "metadata": {},
   "source": [
    "# Numpy Vectorized Operations\n",
    "\n",
    "## Basic Operations [Universal Operations]\n"
   ]
  },
  {
   "cell_type": "code",
   "execution_count": 3,
   "metadata": {},
   "outputs": [
    {
     "name": "stdout",
     "output_type": "stream",
     "text": [
      "Addition:  [11 22 33 44 55]\n",
      "Subtraction:  [ -9 -18 -27 -36 -45]\n",
      "Multiply:  [ 10  40  90 160 250]\n",
      "Division:  [0.1 0.1 0.1 0.1 0.1]\n",
      "Square Root:  [1.         1.41421356 1.73205081 2.         2.23606798]\n",
      "Sine:  [ 0.84147098  0.90929743  0.14112001 -0.7568025  -0.95892427]\n",
      "Natural Log:  [0.         0.69314718 1.09861229 1.38629436 1.60943791]\n",
      "Exponential:  [  2.71828183   7.3890561   20.08553692  54.59815003 148.4131591 ]\n"
     ]
    }
   ],
   "source": [
    "arr1 = np.array([1, 2, 3, 4, 5])\n",
    "arr2 = np.array([10, 20, 30, 40, 50])\n",
    "\n",
    "# Addtition\n",
    "print(\"Addition: \", arr1 + arr2)\n",
    "\n",
    "# Subtraction\n",
    "print(\"Subtraction: \", arr1 - arr2)\n",
    "\n",
    "# multiply\n",
    "print(\"Multiply: \", arr1 * arr2)\n",
    "\n",
    "# Division\n",
    "print(\"Division: \", arr1 / arr2)\n",
    "\n",
    "# Square Root\n",
    "print(\"Square Root: \", np.sqrt(arr1))\n",
    "\n",
    "# Sin\n",
    "print(\"Sine: \", np.sin(arr1))\n",
    "\n",
    "# Natural Log\n",
    "print(\"Natural Log: \", np.log(arr1))\n",
    "\n",
    "# Exponential\n",
    "print(\"Exponential: \", np.exp(arr1))"
   ]
  },
  {
   "cell_type": "markdown",
   "metadata": {},
   "source": [
    "## Array Slicing and Accessing\n"
   ]
  },
  {
   "cell_type": "code",
   "execution_count": 4,
   "metadata": {},
   "outputs": [
    {
     "name": "stdout",
     "output_type": "stream",
     "text": [
      "Array:  [[ 1  2  3  4]\n",
      " [ 5  6  7  8]\n",
      " [ 9 10 11 12]]\n",
      "1 row 3rd index:  4\n",
      "Accesselements (7,8,11,12) :- \n",
      " [[ 7  8]\n",
      " [11 12]]\n",
      "Access elements (3,4,7,8) : \n",
      " [[3 4]\n",
      " [7 8]]\n",
      "Array After Modify: \n",
      " [[100   2   3   4]\n",
      " [  5   6   7   8]\n",
      " [  9  10  11  12]]\n"
     ]
    }
   ],
   "source": [
    "arr = np.array([[1, 2, 3, 4], [5, 6, 7, 8], [9, 10, 11, 12]])\n",
    "print(\"Array: \", arr)\n",
    "\n",
    "print(\"1 row 3rd index: \", arr[0][3])\n",
    "\n",
    "print(\"Accesselements (7,8,11,12) :- \\n\", arr[1:, 2:])\n",
    "\n",
    "print(\"Access elements (3,4,7,8) : \\n\", arr[0:2, 2:])\n",
    "\n",
    "arr[0][0] = 100\n",
    "print(\"Array After Modify: \\n\", arr)"
   ]
  },
  {
   "cell_type": "markdown",
   "metadata": {},
   "source": [
    "# Practical Application\n",
    "\n",
    "### Statistical Concept -> NORMALISATION\n",
    "\n",
    "### normalisedData = (arr - mean) / standardDeviation\n"
   ]
  },
  {
   "cell_type": "code",
   "execution_count": 5,
   "metadata": {},
   "outputs": [
    {
     "name": "stdout",
     "output_type": "stream",
     "text": [
      "Mean:  3.0\n",
      "Median:  3.0\n",
      "Variance:  669.8541666666666\n",
      "Standard Deviation:  1.4142135623730951\n",
      "Normalized Data:  [-1.41421356 -0.70710678  0.          0.70710678  1.41421356]\n"
     ]
    }
   ],
   "source": [
    "# To Have Mean = 0 & Standard Deviation = 1 is Normalization\n",
    "data = np.array([1, 2, 3, 4, 5])\n",
    "\n",
    "# Mean\n",
    "mean = np.mean(data)\n",
    "print(\"Mean: \", mean)\n",
    "\n",
    "# Median\n",
    "median = np.median(data)\n",
    "print(\"Median: \", median)\n",
    "\n",
    "# Variance\n",
    "variance = np.var(arr)\n",
    "print(\"Variance: \", variance)\n",
    "\n",
    "# Standard Deviation\n",
    "std_dev = np.std(data)\n",
    "print(\"Standard Deviation: \", std_dev)\n",
    "\n",
    "# NORAMLISING the Data\n",
    "normalised_data = (data - mean) / std_dev\n",
    "print(\"Normalized Data: \", normalised_data)"
   ]
  },
  {
   "cell_type": "markdown",
   "metadata": {},
   "source": [
    "# Logical Operation (V.IMP)\n"
   ]
  },
  {
   "cell_type": "code",
   "execution_count": 6,
   "metadata": {},
   "outputs": [
    {
     "name": "stdout",
     "output_type": "stream",
     "text": [
      "[5 6 7 8]\n"
     ]
    }
   ],
   "source": [
    "data = np.array([1, 2, 3, 4, 5, 6, 7, 8, 9, 10])\n",
    "\n",
    "print(data[(data >= 5) & (data <= 8)])  # Only Print Elements Greater than 5"
   ]
  }
 ],
 "metadata": {
  "kernelspec": {
   "display_name": "Python 3",
   "language": "python",
   "name": "python3"
  },
  "language_info": {
   "codemirror_mode": {
    "name": "ipython",
    "version": 3
   },
   "file_extension": ".py",
   "mimetype": "text/x-python",
   "name": "python",
   "nbconvert_exporter": "python",
   "pygments_lexer": "ipython3",
   "version": "3.12.0"
  }
 },
 "nbformat": 4,
 "nbformat_minor": 2
}
